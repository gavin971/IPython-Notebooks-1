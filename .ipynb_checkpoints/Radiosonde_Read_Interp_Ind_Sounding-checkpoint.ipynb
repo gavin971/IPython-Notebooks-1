{
 "metadata": {
  "name": ""
 },
 "nbformat": 3,
 "nbformat_minor": 0,
 "worksheets": [
  {
   "cells": [
    {
     "cell_type": "code",
     "collapsed": false,
     "input": [
      "import datetime\n",
      "import scipy.interpolate\n",
      "import re\n",
      "import numpy as np"
     ],
     "language": "python",
     "metadata": {},
     "outputs": [],
     "prompt_number": 2
    },
    {
     "cell_type": "code",
     "collapsed": false,
     "input": [
      "station_list_search='/nfs/a90/eepdw/Data/Observations/Radiosonde_downloaded_from_NOAA_GUAN/igra-stations.txt'\n",
      "station_metadata=[]\n",
      "f = open(station_list_search,'r')\n",
      "for line in f:\n",
      "     line = line.strip()\n",
      "     line=re.sub(r'([A-Z])\\s([A-Z])', r'\\1_\\2',line)\n",
      "     line=re.sub(r'([A-Z])\\s\\s([A-Z])', r'\\1_\\2',line)\n",
      "     station_metadata.append(line.split())\n",
      "f.close()"
     ],
     "language": "python",
     "metadata": {},
     "outputs": [],
     "prompt_number": 3
    },
    {
     "cell_type": "code",
     "collapsed": false,
     "input": [
      "#station_list_cs=[43150, 42867, 43014, 42339, 40990, 40948]\n",
      "station_list_cs=[42867, 43014, 42339, 40990, 40948]"
     ],
     "language": "python",
     "metadata": {},
     "outputs": [],
     "prompt_number": 26
    },
    {
     "cell_type": "code",
     "collapsed": false,
     "input": [
      "#Raw data read\n",
      "# /nfs/a90/eepdw/Data/Observations/Radiosonde_downloaded_from_NOAA_GUAN/igra-stations.txt\n",
      "# /nfs/a90/eepdw/Data/Observations/Radiosonde_downloaded_from_NOAA_GUAN/readme.txt\n",
      "\n",
      "# Station numbers for Bombay - 43003; New Delhi - 42182, Lucknow - 42369, Cochin, Bangalore, Madras, Minicoy, Nagpur Sonegaon)\n",
      "import datetime\n",
      "import scipy.interpolate\n",
      "import re\n",
      "import numpy as np\n",
      "\n",
      "date_min=datetime.datetime(2011,5,1,0,0,0)\n",
      "date_max=datetime.datetime(2011,10,1,0,0,0)\n",
      "\n",
      "import datetime\n",
      "\n",
      "\n",
      "test_count=0\n",
      "\n",
      "match_header = re.compile(r'#.....20110[56789]')\n",
      "\n",
      "match_bad = re.compile(r'9999')\n",
      "    \n",
      "lev_count=False\n",
      "\n",
      "y_points=np.linspace(5000, 100000, 200) # Points for pressure interpolation\n",
      "\n",
      "def interp_sounding(variable, pressures_s,y_points):\n",
      "    #print pressures_s\n",
      "    #print variable\n",
      "    \n",
      "    #pressures_s,variable=np.sort(np.array((pressures_s, variable), dtype=float), axis=1)\n",
      "    #a=np.array((pressures_s, variable))\n",
      "   # a=a[a[0].argsort()]\n",
      "    #print a\n",
      "    #print pressures_s\n",
      "    #print variable\n",
      "    nan_mask = np.ma.masked_array(np.array(variable, dtype=float), np.isnan(np.array(variable, dtype=float)))\n",
      "    nan_mask_p = np.ma.masked_array(np.array(pressures_s, dtype=float), np.isnan(np.array(variable, dtype=float)))\n",
      "    variable = [x for (y,x) in sorted(zip(pressures_s, variable), key=lambda pair: pair[0])]\n",
      "    pressures_s = [y for (y,x) in sorted(zip(pressures_s, variable), key=lambda pair: pair[0])]\n",
      "    #print nan_mask_p\n",
      "    #print nan_mask\n",
      "    #print sorted_pre_interp\n",
      "    interp = scipy.interpolate.interp1d(pressures_s, variable, bounds_error=False, fill_value=np.nan)\n",
      "    y_interp = interp(y_points)\n",
      "    return y_interp\n",
      "\n",
      "for stat in station_list_cs:\n",
      "    \n",
      "  lev_count=False\n",
      "    \n",
      "  single_values=[]\n",
      "  pressures=[]\n",
      "  temps=[]\n",
      "  dewpoints=[]\n",
      "  winddirs=[]\n",
      "  windspeeds=[]\n",
      "    \n",
      "  pot_temp=[]\n",
      "  sat_vap_pres=[]\n",
      "  vap_press=[]\n",
      "  rel_hum=[]\n",
      "  wvmr=[]\n",
      "  sp_hum=[]\n",
      "  sat_temp=[]\n",
      "  theta_e=[]\n",
      "  theta_e_sat=[]\n",
      "    \n",
      "  pressures_s=[]\n",
      "  temps_s=[]\n",
      "  dewpoints_s=[]\n",
      "  winddirs_s=[]\n",
      "  windspeeds_s=[]\n",
      "    \n",
      "  #pressures_for_plotting = np.array((dates_for_plotting, pressures, temps, dewpoints, winddirs, windspeeds))\n",
      "    \n",
      "  dates_for_plotting_single=[]\n",
      " \n",
      "  levs=-1\n",
      "  numlevs=0\n",
      "\n",
      "  #print stat\n",
      "\n",
      "  i = '/nfs/a90/eepdw/Data/Observations/Radiosonde_downloaded_from_NOAA_GUAN/%s.dat' % stat\n",
      "  print i\n",
      "  f = open(i,'r')\n",
      "  #print f\n",
      "  for line in f:\n",
      "   #line = line.strip().replace('-99999',' %s ' %float('NaN'))\n",
      "   line = line.strip()\n",
      "   #print line\n",
      "   #columns=line.split()\n",
      "            \n",
      "   if levs >= numlevs and pressures_s and temps_s and dewpoints_s and winddirs_s and windspeeds_s:\n",
      "     lev_count=False\n",
      "     #print pressures_s\n",
      "     #print temps_s\n",
      "    \n",
      "     temps_s_mask = np.ma.masked_array(np.array(temps_s, dtype=float), np.isnan(np.array(temps_s, dtype=float)))\n",
      "     pressures_s_mask =  np.ma.masked_array(np.array(pressures_s, dtype=float), np.isnan(np.array(pressures_s, dtype=float)))   \n",
      "     dewpoints_s_mask = np.ma.masked_array(np.array(dewpoints_s, dtype=float), np.isnan(np.array(dewpoints_s, dtype=float)))\n",
      "        \n",
      "     temps_scent = np.array(temps_s_mask, dtype=float)/10\n",
      "     temps_s = (np.array(temps_s_mask, dtype=float)/10)+273.15\n",
      "     pressures_s_hPa = np.array(pressures_s_mask, dtype=float)/100 # Pressures in raw files as mb*100 - which is Pa - convert to hPa for calcs\n",
      "     dewpoints_s = np.array(dewpoints_s_mask, dtype=float)/10\n",
      "        \n",
      "     dewpoint_temp = temps_scent-dewpoints_s\n",
      "    \n",
      "     pot_temp_s = temps_s*((1000/pressures_s_hPa)**(2/7))\n",
      "\n",
      "     sat_vap_pres_s = 611.2*np.exp(17.67*(temps_scent/(temps_scent+243.5)))\n",
      "     \n",
      "     vap_press_s = 611.2*np.exp(17.67*(dewpoint_temp/(dewpoint_temp+243.5)))\n",
      "        \n",
      "     rel_hum_s = 100*vap_press_s/sat_vap_pres_s\n",
      "\n",
      "     wvmr_s = 0.622*vap_press_s/(pressures_s-vap_press_s) # kg/kg\n",
      "        \n",
      "     sp_hum_s = wvmr_s/(1+wvmr_s)\n",
      "        \n",
      "     sat_temp_s = 55+2840/(3.5*np.log(temps_s)-np.log(vap_press_s/100)-4.805)\n",
      "    \n",
      "     theta_e_s = pot_temp_s*((1000/pressures_s_hPa)**(0.2854*(1-0.28*wvmr_s)))*np.exp(((3376/sat_temp_s)-2.54)*wvmr_s*(1+0.81*wvmr_s))\n",
      "        \n",
      "\n",
      "     wvmr_sat_s = 0.622*sat_vap_pres_s/(pressures_s-sat_vap_pres_s) # kg/kg\n",
      "    \n",
      "     sat_temp_sat_s = 55+2840/(3.5*np.log(temps_s)-np.log(sat_vap_pres_s/100)-4.805)\n",
      "        \n",
      "     theta_e_sat_s = pot_temp_s*((1000/pressures_s_hPa)**(0.2854*(1-0.28*wvmr_sat_s)))*np.exp(((3376/sat_temp_sat_s)-2.54)*wvmr_sat_s*(1+0.81*wvmr_sat_s))\n",
      "     \n",
      "     try:\n",
      "      temp_interp = interp_sounding(temps_s, pressures_s,y_points)\n",
      "            \n",
      "      #print pressures_s\n",
      "      dewpoints_interp = interp_sounding(dewpoints_s, pressures_s,y_points)\n",
      "      #print dewpoints_interp\n",
      "      winddirs_interp= interp_sounding(np.array(winddirs_s, dtype=float), pressures_s, y_points)\n",
      "      windspeeds_interp= interp_sounding(np.array(windspeeds_s, dtype=float)/10, pressures_s, y_points)\n",
      "            \n",
      "      pot_temp_interp = interp_sounding(pot_temp_s, pressures_s,y_points)\n",
      "      #print pot_temp_interp\n",
      "      sat_vap_pres_interp = interp_sounding(sat_vap_pres_s, pressures_s,y_points)\n",
      "      vap_press_interp = interp_sounding(vap_press_s, pressures_s,y_points)\n",
      "      rel_hum_interp = interp_sounding(rel_hum_s, pressures_s,y_points)\n",
      "      #print rel_hum_interp\n",
      "      wvmr_interp = interp_sounding(wvmr_s, pressures_s,y_points)\n",
      "      sp_hum_interp = interp_sounding(sp_hum_s, pressures_s,y_points)\n",
      "      sat_temp_interp = interp_sounding(sat_temp_s, pressures_s,y_points)\n",
      "      theta_e_interp = interp_sounding(theta_e_s, pressures_s,y_points)\n",
      "            \n",
      "      theta_e_sat_interp = interp_sounding(theta_e_sat_s, pressures_s, y_points)\n",
      "            \n",
      "      pressures.append(list(y_points))\n",
      "      temps.append(list(temp_interp))\n",
      "      dewpoints.append(list(dewpoints_interp))\n",
      "      winddirs.append(list(winddirs_interp))\n",
      "      windspeeds.append(list(windspeeds_interp))\n",
      "            \n",
      "      pot_temp.append(list(pot_temp_interp))\n",
      "      sat_vap_pres.append(list(sat_vap_pres_interp))\n",
      "      vap_press.append(list(vap_press_interp))\n",
      "      rel_hum.append(list(rel_hum_interp))\n",
      "      wvmr.append(list(wvmr_interp))\n",
      "      sp_hum.append(list(sp_hum_interp))\n",
      "      sat_temp.append(list(sat_temp_interp))\n",
      "      theta_e.append(list(theta_e_interp))\n",
      "            \n",
      "      theta_e_sat.append(list(theta_e_sat_interp))\n",
      "    \n",
      "      dates_for_plotting_single.append(date)\n",
      "        \n",
      "     # dates_for_plotting.append(list([dates_for_plotting_single for i in range(len(y_points))]))\n",
      "      \n",
      "    \n",
      "      pp=pressures_s\n",
      "      tt=temps_s\n",
      "      ppp=pressures\n",
      "      ttt=temps\n",
      "      ti=temp_interp\n",
      "     \n",
      "      del pressures_s\n",
      "      del temps_s\n",
      "      del dewpoints_s\n",
      "      del winddirs_s\n",
      "      del windspeeds_s\n",
      "      del temps_s_mask\n",
      "      del pressures_s_mask \n",
      "      del dewpoints_s_mask \n",
      "      del temps_scent\n",
      "      del pressures_s_hPa\n",
      "      del dewpoint_temp\n",
      "      del pot_temp_s\n",
      "      del sat_vap_pres_s\n",
      "      del vap_press_s \n",
      "      del rel_hum_s\n",
      "      del wvmr_s\n",
      "      del sp_hum_s\n",
      "      del sat_temp_s\n",
      "      del theta_e_s\n",
      "        \n",
      "      \n",
      "      pressures_s=[]\n",
      "      temps_s=[]\n",
      "      dewpoints_s=[]\n",
      "      winddirs_s=[]\n",
      "      windspeeds_s=[]\n",
      "        \n",
      "      temps_s_mask=[]\n",
      "      pressures_s_mask =[]\n",
      "      dewpoints_s_mask =[]\n",
      "        \n",
      "      temps_scent = []\n",
      "      temps_s = []\n",
      "      pressures_s_hPa = []\n",
      "      dewpoints_s = []\n",
      "        \n",
      "      dewpoint_temp = []\n",
      "    \n",
      "      pot_temp_s = []\n",
      "\n",
      "      sat_vap_pres_s = []\n",
      "     \n",
      "      vap_press_s = []\n",
      "        \n",
      "      rel_hum_s = []\n",
      "\n",
      "      wvmr_s =[]\n",
      "        \n",
      "      sp_hum_s = []\n",
      "        \n",
      "      sat_temp_s =[]\n",
      "    \n",
      "      theta_e_s = []\n",
      "        \n",
      "      theta_e_sat_s = []\n",
      "        \n",
      "     except ValueError, e:\n",
      "      print e\n",
      "      print line\n",
      "      pass\n",
      "    # np.append(pressures_for_plotting, (y_points.tolist(), temp_interp.tolist(), dewpoints_interp.tolist(), winddirs_interp.tolist(), windspeeds_interp.tolist()), axis=1)\n",
      "  # levs=0\n",
      "   if lev_count is True: \n",
      "    \n",
      "    # Line length varies depending on length of first variable (pressure)\n",
      " #   li=len(line)\n",
      "  # ld=142-len(line)\n",
      "                      \n",
      "    pressures_s.append(float(line[2:8].replace('-9999','%s' %float('NaN')).replace('-8888','%s' %float('NaN'))))     \n",
      "    temps_s.append(float(line[15:20].replace('-9999','%s' %float('NaN')).replace('-8888','%s' %float('NaN')))) \n",
      "    dewpoints_s.append(float(line[21:26].replace('-9999','%s' %float('NaN')).replace('-8888','%s' %float('NaN')))) \n",
      "    winddirs_s.append(float(line[26:31].replace('-9999','%s' %float('NaN')).replace('-8888','%s' %float('NaN')))) \n",
      "    windspeeds_s.append(float(line[31:36].replace('-9999','%s' %float('NaN')).replace('-8888','%s' %float('NaN')))) \n",
      "    \n",
      "    \n",
      "    levs+=1\n",
      "    \n",
      "    #print pressures_s\n",
      "    \n",
      "# Extract independent headers \n",
      "\n",
      "   #print uwind\n",
      "   if match_header.search(line) is not None:\n",
      "    #print line\n",
      "    \n",
      "    year=int(line[6:10])\n",
      "    month=int(line[10:12])\n",
      "    day=int(line[12:14])\n",
      "    hour=int(line[14:16])\n",
      "    \n",
      "    date = datetime.datetime(year,month,day,hour)\n",
      "    \n",
      "    numlevs=int(line[20:24])\n",
      "    \n",
      "    #print numlevs\n",
      "    \n",
      "    lev_count=True\n",
      "    levs=0\n",
      "    \n",
      "    pressures_s=[]\n",
      "    temps_s=[]\n",
      "    dewpoints_s=[]\n",
      "    winddirs_s=[]\n",
      "    windspeeds_s=[]\n",
      "    \n",
      "  #print pressures.shape  \n",
      "         \n",
      "      \n",
      "  pressures_for_plotting = np.array((pressures, temps, dewpoints, winddirs, windspeeds, pot_temp, sat_vap_pres, vap_press, rel_hum, wvmr, sp_hum, sat_temp,theta_e, theta_e_sat))\n",
      "  print pressures_for_plotting.shape\n",
      "  np.savez('/nfs/a90/eepdw/Data/Observations/Radiosonde_Numpy/Radiosonde_Single_Station_PRESSURES__IND_INTERP_SOUNDING_%s_%s_to_%s'\\\n",
      "          % (stat, date_min.strftime('%Y%m%d'), date_max.strftime('%Y%m%d') ), pressures_for_plotting=pressures_for_plotting, dates_for_plotting_single=dates_for_plotting_single)\n",
      " "
     ],
     "language": "python",
     "metadata": {},
     "outputs": [
      {
       "output_type": "stream",
       "stream": "stdout",
       "text": [
        "/nfs/a90/eepdw/Data/Observations/Radiosonde_downloaded_from_NOAA_GUAN/43150.dat\n",
        "(14, 257, 200)"
       ]
      },
      {
       "output_type": "stream",
       "stream": "stdout",
       "text": [
        "\n",
        "/nfs/a90/eepdw/Data/Observations/Radiosonde_downloaded_from_NOAA_GUAN/42867.dat"
       ]
      },
      {
       "output_type": "stream",
       "stream": "stdout",
       "text": [
        "\n",
        "x and y arrays must have at least 2 entries"
       ]
      },
      {
       "output_type": "stream",
       "stream": "stdout",
       "text": [
        "\n",
        "#4286720110806002359  38\n",
        "(14, 250, 200)"
       ]
      },
      {
       "output_type": "stream",
       "stream": "stdout",
       "text": [
        "\n",
        "/nfs/a90/eepdw/Data/Observations/Radiosonde_downloaded_from_NOAA_GUAN/43014.dat"
       ]
      },
      {
       "output_type": "stream",
       "stream": "stdout",
       "text": [
        "\n",
        "(14, 154, 200)"
       ]
      },
      {
       "output_type": "stream",
       "stream": "stdout",
       "text": [
        "\n",
        "/nfs/a90/eepdw/Data/Observations/Radiosonde_downloaded_from_NOAA_GUAN/42339.dat"
       ]
      },
      {
       "output_type": "stream",
       "stream": "stdout",
       "text": [
        "\n",
        "x and y arrays must have at least 2 entries"
       ]
      },
      {
       "output_type": "stream",
       "stream": "stdout",
       "text": [
        "\n",
        "#4233920110610019999  12\n",
        "x and y arrays must have at least 2 entries"
       ]
      },
      {
       "output_type": "stream",
       "stream": "stdout",
       "text": [
        "\n",
        "#4233920110908010046  40\n",
        "(14, 245, 200)"
       ]
      },
      {
       "output_type": "stream",
       "stream": "stdout",
       "text": [
        "\n",
        "/nfs/a90/eepdw/Data/Observations/Radiosonde_downloaded_from_NOAA_GUAN/40990.dat"
       ]
      },
      {
       "output_type": "stream",
       "stream": "stdout",
       "text": [
        "\n",
        "(14, 189, 200)"
       ]
      },
      {
       "output_type": "stream",
       "stream": "stdout",
       "text": [
        "\n",
        "/nfs/a90/eepdw/Data/Observations/Radiosonde_downloaded_from_NOAA_GUAN/40948.dat"
       ]
      },
      {
       "output_type": "stream",
       "stream": "stdout",
       "text": [
        "\n",
        "x and y arrays must have at least 2 entries"
       ]
      },
      {
       "output_type": "stream",
       "stream": "stdout",
       "text": [
        "\n",
        "#4094820110616002332 107\n",
        "(14, 194, 200)"
       ]
      },
      {
       "output_type": "stream",
       "stream": "stdout",
       "text": [
        "\n"
       ]
      }
     ],
     "prompt_number": 46
    },
    {
     "cell_type": "code",
     "collapsed": false,
     "input": [
      "\n",
      "# Loading individual stations numpy files, sorting into datetime bins\n",
      "# AND then interpolating for each station \n",
      "# BEFORE appending so that all 1-D interpolated values for stations are in one array with distances for gridding and plotting\n",
      "# Plot variable index must be changed in script (plot_variable)\n",
      "\n",
      "#Indexes -  pressures = 1, ptemps = 2, vptemps = 3, rh = 4, uwind = 5, vwind = 6, calculated geopotential heights = 7 , \n",
      "#temps=8, actual vapour pressure=9, wvmr = 10, theta_e = 11, theta_es = 12. . . may change\n",
      "from dateutil.relativedelta import relativedelta\n",
      "\n",
      "import datetime\n",
      "\n",
      "date_min=datetime.datetime(2011,5,1,0,0,0)\n",
      "date_max=datetime.datetime(2011,10,1,0,0,0)\n",
      "\n",
      "#delta = relativedelta(months=+1)\n",
      "delta = relativedelta(weeks=+1)\n",
      "\n",
      "Cross_Section_Title = 'Vizag_to_Afghanistan'\n",
      "\n",
      "from dateutil.relativedelta import relativedelta\n",
      "from math import sin, cos, atan2, radians, sqrt\n",
      "from collections import defaultdict\n",
      "import collections\n",
      "import bisect\n",
      "\n",
      "import numpy as np\n",
      "\n",
      "#from scipy.interpolate import spline\n",
      "\n",
      "#import scipy.interpolate.interp1d\n",
      "\n",
      "def calculate_distance_from_first_station(stat, first_station_lon, first_station_lat, station_lat, station_lon):\n",
      "\n",
      " fslat_rad = radians(first_station_lat)\n",
      " fslon_rad = radians(first_station_lon)\n",
      " lat_rad = radians(station_lat)\n",
      " lon_rad = radians(station_lon)\n",
      "\n",
      " #Haversine Formula\n",
      "    \n",
      " a = sin((lat_rad-fslat_rad)/2)**2 + cos(lat_rad) * cos(fslat_rad) * sin((lon_rad-fslon_rad)/2)**2\n",
      " c = 2 * atan2(sqrt(a), sqrt(1-a))\n",
      " d = 6371 * c\n",
      "\n",
      " return d\n",
      "\n",
      "all_stat_date_range_pressure_interp=[]\n",
      "grid=[]\n",
      "\n",
      "d = date_min\n",
      "while (d <= date_max): \n",
      " grid.append(d)\n",
      " d += delta\n",
      "\n",
      "#print grid\n",
      "                 \n",
      "bins=collections.defaultdict(list)\n",
      "\n",
      "for stat in station_list_cs: \n",
      "  date_bin_mean_all_dates_one_station=[]\n",
      "  min_max_date_bin=[]\n",
      "  bins=collections.defaultdict(list)\n",
      "        \n",
      "# Pressure Levels\n",
      "\n",
      " #pressure_file = np.load('/nfs/a90/eepdw/Data/Observations/Radiosonde_Numpy/Radiosonde_Single_Station_PRESSURES_%s_%s.npy' % (stat, date_title))\n",
      "  npz_file = np.load('/nfs/a90/eepdw/Data/Observations/Radiosonde_Numpy/Radiosonde_Single_Station_PRESSURES__IND_INTERP_SOUNDING_%s_%s_to_%s.npz'\\\n",
      "          % (stat, date_min.strftime('%Y%m%d'), date_max.strftime('%Y%m%d') ))\n",
      "  pressure_file=npz_file['pressures_for_plotting']\n",
      "  date_file=npz_file['dates_for_plotting_single']\n",
      "  #print '/nfs/a90/eepdw/Data/Observations/Radiosonde_Numpy/Radiosonde_Single_Station_PRESSURES_%s_%s_to_%s.npy'\\\n",
      "  #        % (stat, date_min.strftime('%Y%m%d'), date_max.strftime('%Y%m%d') )\n",
      "\n",
      "  #print pressure_file\n",
      "  for di, dates in enumerate(date_file):\n",
      "   #print idx\n",
      "\n",
      "   idx=bisect.bisect(grid,dates)\n",
      "   bins[idx].append((pressure_file[:,di],dates))\n",
      "   #print idx\n",
      "  #print len(bins)\n",
      "  #print len(grid)\n",
      "        \n",
      "  for i in range(len(grid)):\n",
      "    #if bins[l] is None:\n",
      "   #bins[l].append(([],[]))\n",
      "        \n",
      "   if np.array(bins[i]).size != 0:\n",
      "            \n",
      "    empty_array =  np.empty((np.nanmean(np.dstack(np.array(bins[i])[:,0]), axis=2).shape))\n",
      "    empty_array[:] = np.NAN\n",
      "    \n",
      "    empty_array_list =  (datetime.datetime(1,1,1,1), datetime.datetime(1,1,1,1))\n",
      "    #empty_array_list[:] = np.NAN\n",
      "    \n",
      "    \n",
      "  for i in range(len(grid)):\n",
      "    #if bins[l] is None:\n",
      "   #bins[l].append(([],[]))\n",
      "        \n",
      "   if np.array(bins[i]).size != 0:\n",
      "  #for i in bins:\n",
      "    #print i\n",
      "   #print np.array(bins[i])[:,0].shape\n",
      "  #bins = np.sort(bins, axis=1)\n",
      "   #print grid[i]   \n",
      "   #date_bin_mean = np.nanmean(np.dstack(np.array(bins[i])[:,0]), axis=2)\n",
      "   #print date_bin_mean\n",
      "   #nan_mask = np.ma.masked_array(np.array(date_bin_mean, dtype=float), np.isnan(np.array(date_bin_mean, dtype=float)))\n",
      "            \n",
      "  # if np.all(np.isnan(np.dstack(np.array(bins[i])[:,0]))) == False:\n",
      "        \n",
      "\n",
      "    date_bin_mean_all_dates_one_station.append(np.nanmean(np.dstack(np.array(bins[i])[:,0]), axis=2))\n",
      "   #print date_bin_mean\n",
      "    min_max_date_bin.append((min(np.array(bins[i])[:,1]), max(np.array(bins[i])[:,1])))\n",
      "    \n",
      "   elif np.array(bins[i]).size == 0:\n",
      "     date_bin_mean_all_dates_one_station.append(empty_array)\n",
      "     min_max_date_bin.append(empty_array_list)\n",
      "     #print i\n",
      "    \n",
      "  #print date_bin_mean_all_dates_one_station\n",
      "\n",
      "   #print np.array(date_bin_mean_all_dates_one_station).shape\n",
      "  np.savez('/nfs/a90/eepdw/Data/Observations/Radiosonde_Numpy/Radiosonde_Cross_Section_IND_SOUNDING_INTERP_MEAN_%s_%s_%s_%s_%s' \\\n",
      "       % (Cross_Section_Title, date_min.strftime('%Y%m%d'), date_max.strftime('%Y%m%d'), delta, stat)\\\n",
      "    , date_bin_mean_all_dates_one_station=date_bin_mean_all_dates_one_station, min_max_date_bin=min_max_date_bin)"
     ],
     "language": "python",
     "metadata": {},
     "outputs": [],
     "prompt_number": 48
    },
    {
     "cell_type": "code",
     "collapsed": false,
     "input": [
      "#Weekly\n",
      "\n",
      "import matplotlib\n",
      "import matplotlib.pyplot as plt\n",
      "import matplotlib.mlab as ml\n",
      "\n",
      "import datetime\n",
      "\n",
      "from dateutil.relativedelta import relativedelta\n",
      "\n",
      "import re\n",
      "\n",
      "import numpy as np\n",
      "\n",
      "from math import sin, cos, atan2, radians, sqrt\n",
      "\n",
      "import scipy.interpolate\n",
      "\n",
      "import gc\n",
      "\n",
      "import pdb\n",
      "import traceback\n",
      "\n",
      "Cross_Section_Title = 'Vizag_to_Afghanistan'\n",
      "station_list_cs=[43150, 42867, 43014, 42339, 40990, 40948]\n",
      "\n",
      "first_station=43150\n",
      "\n",
      "date_min=datetime.datetime(2011,5,1,0,0,0)\n",
      "date_max=datetime.datetime(2011,10,1,0,0,0)\n",
      "\n",
      "delta = relativedelta(weeks=+1)\n",
      "\n",
      "\n",
      "    \n",
      "def station_info_search(stat):\n",
      "    for line in station_metadata:\n",
      "     if \"%s\" % stat in line: \n",
      "      st = line[2].lower().title().replace('_',' ')\n",
      "      lo = float(line[3])\n",
      "      la = float(line[4])\n",
      "    return st,la,lo\n",
      "\n",
      "def calculate_distance_from_first_station(stat, first_station_lon, first_station_lat, station_lat, station_lon):\n",
      "\n",
      " fslat_rad = radians(first_station_lat)\n",
      " fslon_rad = radians(first_station_lon)\n",
      " lat_rad = radians(station_lat)\n",
      " lon_rad = radians(station_lon)\n",
      "\n",
      " #Haversine Formula\n",
      "    \n",
      " a = sin((lat_rad-fslat_rad)/2)**2 + cos(lat_rad) * cos(fslat_rad) * sin((lon_rad-fslon_rad)/2)**2\n",
      " c = 2 * atan2(sqrt(a), sqrt(1-a))\n",
      " d = 6371 * c\n",
      "\n",
      " return d\n",
      "\n",
      "def variable_name_index_match(variable, variable_list):\n",
      " for key, value in variable_list.iteritems():   # iter on both keys and values\n",
      "        if key.startswith('%s' % variable):\n",
      "                arr_index_var=value \n",
      " return arr_index_var\n",
      "            \n",
      "def variable_cat(var_index, station_list_cs):\n",
      "    var_cat=[]\n",
      "    distances=[]\n",
      "    date_min_max=[]\n",
      "    \n",
      "    for stat in station_list_cs:\n",
      "     load_file = np.load('/nfs/a90/eepdw/Data/Observations/Radiosonde_Numpy/Radiosonde_Cross_Section_'\n",
      "                        'IND_SOUNDING_INTERP_MEAN_%s_%s_%s_%s_%s.npz' \n",
      "                        % (Cross_Section_Title, date_min.strftime('%Y%m%d'), date_max.strftime('%Y%m%d'), delta, stat))\n",
      "  \n",
      "     #print load_file['date_bin_mean_all_dates_one_station'].shape\n",
      "\n",
      "     if date_min_max ==[]:\n",
      "      date_min_max=np.empty(load_file['min_max_date_bin'].shape)\n",
      "        \n",
      "     station_title, station_lon, station_lat = station_info_search(stat)\n",
      "    \n",
      "     dist_from_first_station = calculate_distance_from_first_station(stat, first_station_lon, first_station_lat, station_lat, station_lon)\n",
      "    \n",
      "     #print dist_from_first_station\n",
      "     #print load_file['date_bin_mean_all_dates_one_station'][:,var_index,:].shape\n",
      "     var_cat.append(load_file['date_bin_mean_all_dates_one_station'][:,var_index,:])\n",
      "     distances.append(dist_from_first_station)\n",
      "     #pdb.set_trace()\n",
      "     #if load_file['min_max_date_bin'].any() != np.NAN:\n",
      "     #date_min_max=np.ma.masked_outside(load_file['min_max_date_bin'], date_min, date_max ).data\n",
      "     date_min_max = np.where((load_file['min_max_date_bin']>date_min) & (load_file['min_max_date_bin']<date_max), load_file['min_max_date_bin'], date_min_max )\n",
      "    #print np.array(var_cat).shape\n",
      "    #print date_min_max\n",
      "    return np.array(var_cat), np.array(distances, dtype=float), date_min_max\n",
      "\n",
      "def station_name_plot(station_list_cs, first_station, yi):    \n",
      " y_offset_text=0\n",
      " first_station_title, first_station_lon, first_station_lat = station_info_search(first_station)\n",
      "    \n",
      " \n",
      " for stat in station_list_cs: \n",
      "     \n",
      "   station_title, station_lon, station_lat = station_info_search(stat)\n",
      "    \n",
      "   dist_from_first_station = calculate_distance_from_first_station(stat, first_station_lon, first_station_lat, station_lat, station_lon)\n",
      "    \n",
      "   plt.axvline(x=dist_from_first_station, ymin=0, ymax=1, label=station_title, color='k')\n",
      "   plt.text(dist_from_first_station+0.1,max(yi)/100+20,station_title,rotation=-45)\n",
      "\n",
      "   y_offset_text=+1   \n",
      "    \n",
      "def grid_data_cs(pressure, distance, param):\n",
      " xi=np.linspace(0, max(distance), 1000) \n",
      " #yi=np.linspace(np.nanmin(pressure), np.nanmax(pressure), 500) \n",
      " yi=np.linspace(5000, 100000, 50) # Points for pressure interpolation\n",
      "\n",
      " #yi=np.array([1000, 925, 850, 700, 500, 400, 300, 250, 200, 150, 100, 70, 50, 30, 20,10], dtype=float)\n",
      " #yi=np.array([10, 20, 30, 50, 70, 100, 150, 200, 250, 300, 400, 500, 700, 850, 925, 1000]*100, dtype=float)\n",
      " \n",
      "\n",
      " try:\n",
      "    zi = ml.griddata(distance, pressure,param,xi, yi, interp='nn')\n",
      "    #zi = scipy.interpolate.griddata((distance, pressure),  param, (xi[None,:],yi[:,None]), method='linear')\n",
      " except Exception, e:\n",
      "  print e\n",
      " return xi,yi,zi \n",
      " #return xi,yi\n",
      "def plot_rad_cs(xi,yi,zi, min_contour, max_contour):\n",
      " clevs = np.linspace(min_contour, max_contour,256)\n",
      " ticks = (np.arange(min_contour, max_contour+tick_interval,tick_interval))\n",
      "\n",
      " plt.figure(figsize=(14,8))\n",
      " cmap=plt.cm.jet\n",
      " cont = plt.contourf(xi,yi/100, zi, clevs, cmap=cmap, extend='both')\n",
      "\n",
      " cbar = plt.colorbar(cont, orientation='vertical', pad=0.05, extend='both', format = '$%d$')\n",
      " #cbar.set_label('$W m^{-2}$') \n",
      " cbar.set_ticks(np.arange(min_contour, max_contour+tick_interval,tick_interval))\n",
      " cbar.set_ticklabels(['${%d}$' % i for i in ticks])\n",
      "    \n",
      " plt.gca().invert_yaxis()\n",
      " plt.ylabel('Pressure (hPa)')\n",
      " plt.xlabel('km from first station')\n",
      " print variable\n",
      "    \n",
      " return cont,cbar\n",
      "\n",
      "def date_bin_plot(i, date_bin, concat_plot_variable, pressures, distances, min_contour, max_contour):\n",
      "  nan_mask = np.ma.masked_array(np.array(concat_plot_variable[:,i,:], dtype=float).flatten(), np.isnan(np.array(concat_plot_variable[:,i,:], dtype=float).flatten()))\n",
      " #print nan_mask\n",
      "  print concat_plot_variable.shape\n",
      " \n",
      "  try:    \n",
      "   if nan_mask.mask.all() == False:\n",
      "    print nan_mask\n",
      "    xi,yi, zi = grid_data_cs(np.array(pressures[:,i,:], dtype=float).flatten(), np.repeat(distances, concat_plot_variable[:,i,:].shape[1]).flatten(), nan_mask) \n",
      "    \n",
      "    cont,cbar = plot_rad_cs(xi, yi, zi, min_contour, max_contour)\n",
      "    station_name_plot(station_list_cs, first_station, yi)\n",
      "  except Exception, e:\n",
      "   print e\n",
      "  return cont,cbar\n",
      "        \n",
      "station_list_search='/nfs/a90/eepdw/Data/Observations/Radiosonde_downloaded_from_NOAA_GUAN/igra-stations.txt'\n",
      "station_metadata=[]\n",
      "f = open(station_list_search,'r')\n",
      "for line in f:\n",
      "     line = line.strip()\n",
      "     line=re.sub(r'([A-Z])\\s([A-Z])', r'\\1_\\2',line)\n",
      "     line=re.sub(r'([A-Z])\\s\\s([A-Z])', r'\\1_\\2',line)\n",
      "     station_metadata.append(line.split())\n",
      "f.close()\n",
      "\n",
      "first_station_title, first_station_lon, first_station_lat = station_info_search(first_station)\n",
      "\n",
      "variable_list={'pressures': 0, 'temps':1, 'dewpoints':2, 'winddirs':3, 'windspeeds':4, 'pot_temp':5, \n",
      "               'sat_vap_pres':6, 'vap_press':7, 'rel_hum':8, 'wvmr':9, 'sp_hum':10, 'sat_temp':11, 'theta_e':12, 'theta_e_sat':13}\n",
      "\n",
      "variable='pressures'\n",
      "\n",
      "var_index = variable_name_index_match(variable, variable_list)\n",
      "pressures, distances, date_min_max = variable_cat(var_index, station_list_cs)\n",
      "\n",
      "variable='rel_hum'\n",
      "\n",
      "var_index = variable_name_index_match(variable, variable_list)\n",
      "concat_plot_variable, distances, date_min_max = variable_cat(var_index, station_list_cs)\n",
      "\n",
      "max_contour=100\n",
      "min_contour=0\n",
      "tick_interval=10\n",
      "    \n",
      "for i, date_bin in enumerate(date_min_max[:,0]):\n",
      "        \n",
      " try:\n",
      "  cont,cbar = date_bin_plot(i, date_bin, concat_plot_variable, pressures, distances, min_contour, max_contour)\n",
      "        \n",
      "  cbar.set_label('\\%', rotation=90)\n",
      "\n",
      "  print date_bin\n",
      "  \n",
      "  plt.title('%s %s Cross-Section of Relative Humidity from Radiosonde Soundings' % (date_bin.strftime(\"%d %B\"), Cross_Section_Title.replace('_',' ') ))\n",
      "\n",
      "  #plt.show()\n",
      "  \n",
      "  plt.savefig('/nfs/a90/eepdw/Figures/Radiosonde/Cross_Sections/%s_%s_%s_Relative_Humidity.png' % (Cross_Section_Title, date_bin.strftime(\"%y\"), date_bin.strftime(\"%d_%B\")),  format='png', bbox_inches='tight')\n",
      "  plt.close()\n",
      "  plt.clf()\n",
      "  gc.collect()\n",
      " except Exception, e:\n",
      "   print e\n",
      "        \n",
      "#Potential Temperature\n",
      "\n",
      "variable='pot_temp'\n",
      "\n",
      "var_index = variable_name_index_match(variable, variable_list)\n",
      "concat_plot_variable, distances, date_min_max = variable_cat(var_index, station_list_cs)\n",
      "\n",
      "max_contour=300\n",
      "min_contour=250\n",
      "tick_interval=10\n",
      "    \n",
      "for i, date_bin in enumerate(date_min_max[:,0]):\n",
      "        \n",
      " try:\n",
      "  cont,cbar = date_bin_plot(i, date_bin, concat_plot_variable, pressures, distances, min_contour, max_contour)\n",
      "        \n",
      "  cbar.set_label('\\%', rotation=90)\n",
      "  plt.title('Week beg. %s %s Cross-Section of Potential Temperature from Radiosonde Soundings' % (date_bin.strftime(\"%d %B\"), Cross_Section_Title.replace('_',' ') ))\n",
      "\n",
      "  #plt.show()\n",
      "  plt.savefig('/nfs/a90/eepdw/Figures/Radiosonde/Cross_Sections/%s_%s_%s_pottemp.png' % (Cross_Section_Title, date_bin.strftime(\"%y\"), date_bin.strftime(\"%d_%B\")),  format='png', bbox_inches='tight')\n",
      "  plt.close()\n",
      "  plt.clf()\n",
      "  gc.collect()\n",
      " except Exception, e:\n",
      "   print e\n",
      "   traceback.print_exc()\n",
      "\n",
      "\n",
      "#Theta E\n",
      "\n",
      "variable='theta_e'\n",
      "\n",
      "var_index = variable_name_index_match(variable, variable_list)\n",
      "concat_plot_variable, distances, date_min_max = variable_cat(var_index, station_list_cs)\n",
      "\n",
      "max_contour=380\n",
      "min_contour=330\n",
      "tick_interval=10\n",
      "    \n",
      "for i, date_bin in enumerate(date_min_max[:,0]):\n",
      "        \n",
      " try:\n",
      "  cont,cbar = date_bin_plot(i, date_bin, concat_plot_variable, pressures, distances, min_contour, max_contour)\n",
      "        \n",
      "  cbar.set_label('K', rotation=90)\n",
      "  plt.title('Week beg. %s %s Cross-Section of Equivalent Potential Temperature from Radiosonde Soundings' % (date_bin.strftime(\"%d %B\"), Cross_Section_Title.replace('_',' ') ))\n",
      "\n",
      "  #plt.show()\n",
      "  plt.savefig('/nfs/a90/eepdw/Figures/Radiosonde/Cross_Sections/%s_%s_%s_thetae.png' % (Cross_Section_Title, date_bin.strftime(\"%y\"), date_bin.strftime(\"%d_%B\")),  format='png', bbox_inches='tight')\n",
      "  plt.close()\n",
      "  plt.clf()\n",
      "  gc.collect()\n",
      " except Exception, e:\n",
      "   print e\n",
      "\n",
      "#Theta Es\n",
      "\n",
      "variable='theta_e_sat'\n",
      "\n",
      "var_index = variable_name_index_match(variable, variable_list)\n",
      "concat_plot_variable, distances, date_min_max = variable_cat(var_index, station_list_cs)\n",
      "\n",
      "max_contour=360\n",
      "min_contour=330\n",
      "tick_interval=10\n",
      "    \n",
      "for i, date_bin in enumerate(date_min_max[:,0]):\n",
      "        \n",
      " try:\n",
      "  cont,cbar = date_bin_plot(i, date_bin, concat_plot_variable, pressures, distances, min_contour, max_contour)\n",
      "        \n",
      "  cbar.set_label('K', rotation=90)\n",
      "  plt.title('Week beg. %s %s Cross-Section of Saturated Equivalent Potential Temperature from Radiosonde Soundings' % (date_bin.strftime(\"%d %B\"), Cross_Section_Title.replace('_',' ') ))\n",
      "\n",
      "  #plt.show()\n",
      "  plt.savefig('/nfs/a90/eepdw/Figures/Radiosonde/Cross_Sections/%s_%s_%s_thetaesat.png' % (Cross_Section_Title, date_bin.strftime(\"%y\"), date_bin.strftime(\"%d_%B\")),  format='png', bbox_inches='tight')\n",
      "  plt.close()\n",
      "  plt.clf()\n",
      "  gc.collect()\n",
      " except Exception, e:\n",
      "   print e\n",
      "        \n",
      "        \n",
      "# WVMR\n",
      "\n",
      "variable = 'wvmr'\n",
      "\n",
      "var_index = variable_name_index_match(variable, variable_list)\n",
      "concat_plot_variable, distances, date_min_max = variable_cat(var_index, station_list_cs)\n",
      "\n",
      "max_contour=0.01\n",
      "min_contour=0\n",
      "tick_interval=0.001\n",
      "    \n",
      "for i, date_bin in enumerate(date_min_max[:,0]):\n",
      "        \n",
      " try:\n",
      "  cont,cbar = date_bin_plot(i, date_bin, concat_plot_variable, pressures, distances, min_contour, max_contour)\n",
      "        \n",
      "  cbar.set_label('', rotation=90)\n",
      "  plt.title('Week beg. %s %s Cross-Section of WVMR from Radiosonde Soundings' % (date_bin.strftime(\"%d %B\"), Cross_Section_Title.replace('_',' ') ))\n",
      "\n",
      "  #plt.show()\n",
      "  plt.savefig('/nfs/a90/eepdw/Figures/Radiosonde/Cross_Sections/%s_%s_%s_wvmr.png' % (Cross_Section_Title, date_bin.strftime(\"%y\"), date_bin.strftime(\"%d_%B\")),  format='png', bbox_inches='tight')\n",
      "  plt.close()\n",
      "  plt.clf()\n",
      "  gc.collect()\n",
      " except Exception, e:\n",
      "   print e\n",
      "\n",
      "\n",
      "\n",
      "#Theta Es - Theta E - Buoyancy\n",
      "\n",
      "variable='theta_e'\n",
      "\n",
      "var_index = variable_name_index_match(variable, variable_list)\n",
      "concat_plot_variable_theta_e, distances, date_min_max = variable_cat(var_index, station_list_cs)\n",
      "\n",
      "variable='theta_e_sat'\n",
      "\n",
      "var_index = variable_name_index_match(variable, variable_list)\n",
      "concat_plot_variable_theta_e_sat, distances, date_min_max = variable_cat(var_index, station_list_cs)\n",
      "\n",
      "concat_plot_variable = concat_plot_variable_theta_e_sat - concat_plot_variable_theta_e\n",
      "\n",
      "max_contour=50\n",
      "min_contour=0\n",
      "tick_interval=10\n",
      "    \n",
      "for i, date_bin in enumerate(date_min_max[:,0]):\n",
      "        \n",
      " try:\n",
      "  cont,cbar = date_bin_plot(i, date_bin, concat_plot_variable, pressures, distances, min_contour, max_contour)\n",
      "        \n",
      "  cbar.set_label('K', rotation=90)\n",
      "  plt.title('Week beg. %s %s Cross-Section of Theta e sat - Theta e from Radiosonde Soundings' % (date_bin.strftime(\"%d %B\"), Cross_Section_Title.replace('_',' ') ))\n",
      "\n",
      "  #plt.show()\n",
      "  plt.savefig('/nfs/a90/eepdw/Figures/Radiosonde/Cross_Sections/%s_%s_%s_thetaeminthetaesat_buoy.png' % (Cross_Section_Title, date_bin.strftime(\"%y\"), date_bin.strftime(\"%d_%B\")),  format='png', bbox_inches='tight')\n",
      "  plt.close()\n",
      "  plt.clf()\n",
      "  gc.collect()\n",
      " except Exception, e:\n",
      "   print e"
     ],
     "language": "python",
     "metadata": {},
     "outputs": [
      {
       "output_type": "stream",
       "stream": "stdout",
       "text": [
        "(6, 22, 1000)\n",
        "local variable 'cont' referenced before assignment\n",
        "(6, 22, 1000)\n",
        "[-- -- -- ..., -- -- --]\n",
        "pot_temp"
       ]
      },
      {
       "output_type": "stream",
       "stream": "stdout",
       "text": [
        "\n",
        "(6, 22, 1000)"
       ]
      },
      {
       "output_type": "stream",
       "stream": "stdout",
       "text": [
        "\n",
        "[206.84999999999997 -- 203.0188188188188 ..., -- -- --]\n",
        "pot_temp"
       ]
      },
      {
       "output_type": "stream",
       "stream": "stdout",
       "text": [
        "\n",
        "(6, 22, 1000)"
       ]
      },
      {
       "output_type": "stream",
       "stream": "stdout",
       "text": [
        "\n",
        "[205.95 207.00592258925587 206.7618451785118 ..., -- -- --]\n",
        "pot_temp"
       ]
      },
      {
       "output_type": "stream",
       "stream": "stdout",
       "text": [
        "\n",
        "(6, 22, 1000)"
       ]
      },
      {
       "output_type": "stream",
       "stream": "stdout",
       "text": [
        "\n",
        "[208.45 -- -- ..., -- -- --]\n",
        "pot_temp"
       ]
      },
      {
       "output_type": "stream",
       "stream": "stdout",
       "text": [
        "\n",
        "(6, 22, 1000)"
       ]
      },
      {
       "output_type": "stream",
       "stream": "stdout",
       "text": [
        "\n",
        "[204.64999999999998 -- -- ..., -- -- --]\n",
        "pot_temp"
       ]
      },
      {
       "output_type": "stream",
       "stream": "stdout",
       "text": [
        "\n",
        "(6, 22, 1000)"
       ]
      },
      {
       "output_type": "stream",
       "stream": "stdout",
       "text": [
        "\n",
        "[-- -- -- ..., -- -- --]\n",
        "pot_temp"
       ]
      },
      {
       "output_type": "stream",
       "stream": "stdout",
       "text": [
        "\n",
        "(6, 22, 1000)"
       ]
      },
      {
       "output_type": "stream",
       "stream": "stdout",
       "text": [
        "\n",
        "[208.95 208.24999999999997 -- ..., -- -- --]\n",
        "pot_temp"
       ]
      },
      {
       "output_type": "stream",
       "stream": "stdout",
       "text": [
        "\n",
        "(6, 22, 1000)"
       ]
      },
      {
       "output_type": "stream",
       "stream": "stdout",
       "text": [
        "\n",
        "[204.04999999999998 -- -- ..., -- -- --]\n",
        "pot_temp"
       ]
      },
      {
       "output_type": "stream",
       "stream": "stdout",
       "text": [
        "\n",
        "(6, 22, 1000)"
       ]
      },
      {
       "output_type": "stream",
       "stream": "stdout",
       "text": [
        "\n",
        "[210.04999999999998 209.01791791791788 -- ..., -- -- --]\n",
        "pot_temp"
       ]
      },
      {
       "output_type": "stream",
       "stream": "stdout",
       "text": [
        "\n",
        "(6, 22, 1000)"
       ]
      },
      {
       "output_type": "stream",
       "stream": "stdout",
       "text": [
        "\n",
        "[-- 208.36183304516635 208.07366609033272 ..., -- -- --]\n",
        "pot_temp"
       ]
      },
      {
       "output_type": "stream",
       "stream": "stdout",
       "text": [
        "\n",
        "(6, 22, 1000)"
       ]
      },
      {
       "output_type": "stream",
       "stream": "stdout",
       "text": [
        "\n",
        "[207.95 208.0216134044492 207.99322680889844 ..., -- -- --]\n",
        "pot_temp"
       ]
      },
      {
       "output_type": "stream",
       "stream": "stdout",
       "text": [
        "\n",
        "(6, 22, 1000)"
       ]
      },
      {
       "output_type": "stream",
       "stream": "stdout",
       "text": [
        "\n",
        "[-- -- -- ..., -- -- --]\n",
        "pot_temp"
       ]
      },
      {
       "output_type": "stream",
       "stream": "stdout",
       "text": [
        "\n",
        "(6, 22, 1000)"
       ]
      },
      {
       "output_type": "stream",
       "stream": "stdout",
       "text": [
        "\n",
        "[207.89999999999998 206.803653554348 206.53855710869595 ..., -- -- --]\n",
        "pot_temp"
       ]
      },
      {
       "output_type": "stream",
       "stream": "stdout",
       "text": [
        "\n",
        "(6, 22, 1000)"
       ]
      },
      {
       "output_type": "stream",
       "stream": "stdout",
       "text": [
        "\n",
        "[206.64999999999998 -- -- ..., -- -- --]\n",
        "pot_temp"
       ]
      },
      {
       "output_type": "stream",
       "stream": "stdout",
       "text": [
        "\n",
        "(6, 22, 1000)"
       ]
      },
      {
       "output_type": "stream",
       "stream": "stdout",
       "text": [
        "\n",
        "[207.91666666666666 208.98309933309932 208.31619866619863 ..., -- -- --]\n",
        "pot_temp"
       ]
      },
      {
       "output_type": "stream",
       "stream": "stdout",
       "text": [
        "\n",
        "(6, 22, 1000)"
       ]
      },
      {
       "output_type": "stream",
       "stream": "stdout",
       "text": [
        "\n",
        "[-- -- -- ..., -- -- --]\n",
        "pot_temp"
       ]
      },
      {
       "output_type": "stream",
       "stream": "stdout",
       "text": [
        "\n",
        "(6, 22, 1000)"
       ]
      },
      {
       "output_type": "stream",
       "stream": "stdout",
       "text": [
        "\n",
        "[208.34999999999997 206.58522040559075 205.52294702109515 ..., -- -- --]\n",
        "pot_temp"
       ]
      },
      {
       "output_type": "stream",
       "stream": "stdout",
       "text": [
        "\n",
        "(6, 22, 1000)"
       ]
      },
      {
       "output_type": "stream",
       "stream": "stdout",
       "text": [
        "\n",
        "[-- -- -- ..., -- -- --]\n",
        "pot_temp"
       ]
      },
      {
       "output_type": "stream",
       "stream": "stdout",
       "text": [
        "\n",
        "(6, 22, 1000)"
       ]
      },
      {
       "output_type": "stream",
       "stream": "stdout",
       "text": [
        "\n",
        "[209.45 210.4575408742075 209.66508174841505 ..., -- -- --]\n",
        "pot_temp"
       ]
      },
      {
       "output_type": "stream",
       "stream": "stdout",
       "text": [
        "\n",
        "(6, 22, 1000)"
       ]
      },
      {
       "output_type": "stream",
       "stream": "stdout",
       "text": [
        "\n",
        "[207.64999999999998 207.45129383114454 207.25258766228913 ..., -- -- --]\n",
        "pot_temp"
       ]
      },
      {
       "output_type": "stream",
       "stream": "stdout",
       "text": [
        "\n",
        "(6, 22, 1000)"
       ]
      },
      {
       "output_type": "stream",
       "stream": "stdout",
       "text": [
        "\n",
        "[-- 208.06779605692645 208.82308612960784 ..., -- -- --]\n",
        "pot_temp"
       ]
      },
      {
       "output_type": "stream",
       "stream": "stdout",
       "text": [
        "\n",
        "(6, 22, 1000)"
       ]
      },
      {
       "output_type": "stream",
       "stream": "stdout",
       "text": [
        "\n",
        "local variable 'cont' referenced before assignment\n",
        "(6, 22, 1000)\n",
        "[-- -- -- ..., -- -- --]\n",
        "theta_e"
       ]
      },
      {
       "output_type": "stream",
       "stream": "stdout",
       "text": [
        "\n",
        "(6, 22, 1000)"
       ]
      },
      {
       "output_type": "stream",
       "stream": "stdout",
       "text": [
        "\n",
        "[486.4648092037939 -- 472.40634772722007 ..., -- -- --]\n",
        "theta_e"
       ]
      },
      {
       "output_type": "stream",
       "stream": "stdout",
       "text": [
        "\n",
        "(6, 22, 1000)"
       ]
      },
      {
       "output_type": "stream",
       "stream": "stdout",
       "text": [
        "\n",
        "[484.3548763821078 484.2803102737696 481.19900053713604 ..., -- -- --]\n",
        "theta_e"
       ]
      },
      {
       "output_type": "stream",
       "stream": "stdout",
       "text": [
        "\n",
        "(6, 22, 1000)"
       ]
      },
      {
       "output_type": "stream",
       "stream": "stdout",
       "text": [
        "\n",
        "[490.1891973535923 -- -- ..., -- -- --]\n",
        "theta_e"
       ]
      },
      {
       "output_type": "stream",
       "stream": "stdout",
       "text": [
        "\n",
        "(6, 22, 1000)"
       ]
      },
      {
       "output_type": "stream",
       "stream": "stdout",
       "text": [
        "\n",
        "[481.2547550639349 -- -- ..., -- -- --]\n",
        "theta_e"
       ]
      },
      {
       "output_type": "stream",
       "stream": "stdout",
       "text": [
        "\n",
        "(6, 22, 1000)"
       ]
      },
      {
       "output_type": "stream",
       "stream": "stdout",
       "text": [
        "\n",
        "[-- -- -- ..., -- -- --]\n",
        "theta_e"
       ]
      },
      {
       "output_type": "stream",
       "stream": "stdout",
       "text": [
        "\n",
        "(6, 22, 1000)"
       ]
      },
      {
       "output_type": "stream",
       "stream": "stdout",
       "text": [
        "\n",
        "[491.6186586880792 487.3238337200742 -- ..., -- -- --]\n",
        "theta_e"
       ]
      },
      {
       "output_type": "stream",
       "stream": "stdout",
       "text": [
        "\n",
        "(6, 22, 1000)"
       ]
      },
      {
       "output_type": "stream",
       "stream": "stdout",
       "text": [
        "\n",
        "[479.8312601094152 -- -- ..., -- -- --]\n",
        "theta_e"
       ]
      },
      {
       "output_type": "stream",
       "stream": "stdout",
       "text": [
        "\n",
        "(6, 22, 1000)"
       ]
      },
      {
       "output_type": "stream",
       "stream": "stdout",
       "text": [
        "\n",
        "[494.2098710850367 489.26450960518343 -- ..., -- -- --]\n",
        "theta_e"
       ]
      },
      {
       "output_type": "stream",
       "stream": "stdout",
       "text": [
        "\n",
        "(6, 22, 1000)"
       ]
      },
      {
       "output_type": "stream",
       "stream": "stdout",
       "text": [
        "\n",
        "[-- 487.441745957515 484.2221914037217 ..., -- -- --]\n",
        "theta_e"
       ]
      },
      {
       "output_type": "stream",
       "stream": "stdout",
       "text": [
        "\n",
        "(6, 22, 1000)"
       ]
      },
      {
       "output_type": "stream",
       "stream": "stdout",
       "text": [
        "\n",
        "[489.03381182324347 486.755310449798 484.2463188785384 ..., -- -- --]\n",
        "theta_e"
       ]
      },
      {
       "output_type": "stream",
       "stream": "stdout",
       "text": [
        "\n",
        "(6, 22, 1000)"
       ]
      },
      {
       "output_type": "stream",
       "stream": "stdout",
       "text": [
        "\n",
        "[-- -- -- ..., -- -- --]\n",
        "theta_e"
       ]
      },
      {
       "output_type": "stream",
       "stream": "stdout",
       "text": [
        "\n",
        "(6, 22, 1000)"
       ]
      },
      {
       "output_type": "stream",
       "stream": "stdout",
       "text": [
        "\n",
        "[488.8156443532792 483.7799874329076 480.6218728055478 ..., -- -- --]\n",
        "theta_e"
       ]
      },
      {
       "output_type": "stream",
       "stream": "stdout",
       "text": [
        "\n",
        "(6, 22, 1000)"
       ]
      },
      {
       "output_type": "stream",
       "stream": "stdout",
       "text": [
        "\n",
        "[486.0431765381099 -- -- ..., -- -- --]\n",
        "theta_e"
       ]
      },
      {
       "output_type": "stream",
       "stream": "stdout",
       "text": [
        "\n",
        "(6, 22, 1000)"
       ]
      },
      {
       "output_type": "stream",
       "stream": "stdout",
       "text": [
        "\n",
        "[489.0443890079761 489.2207303499351 485.26291749439036 ..., -- -- --]\n",
        "theta_e"
       ]
      },
      {
       "output_type": "stream",
       "stream": "stdout",
       "text": [
        "\n",
        "(6, 22, 1000)"
       ]
      },
      {
       "output_type": "stream",
       "stream": "stdout",
       "text": [
        "\n",
        "[-- -- -- ..., -- -- --]\n",
        "theta_e"
       ]
      },
      {
       "output_type": "stream",
       "stream": "stdout",
       "text": [
        "\n",
        "(6, 22, 1000)"
       ]
      },
      {
       "output_type": "stream",
       "stream": "stdout",
       "text": [
        "\n",
        "[490.0278178861155 483.39480921659276 478.67021399015795 ..., -- -- --]\n",
        "theta_e"
       ]
      },
      {
       "output_type": "stream",
       "stream": "stdout",
       "text": [
        "\n",
        "(6, 22, 1000)"
       ]
      },
      {
       "output_type": "stream",
       "stream": "stdout",
       "text": [
        "\n",
        "[-- -- -- ..., -- -- --]\n",
        "theta_e"
       ]
      },
      {
       "output_type": "stream",
       "stream": "stdout",
       "text": [
        "\n",
        "(6, 22, 1000)"
       ]
      },
      {
       "output_type": "stream",
       "stream": "stdout",
       "text": [
        "\n",
        "[492.6812510728969 492.4895503823175 488.0163382782105 ..., -- -- --]\n",
        "theta_e"
       ]
      },
      {
       "output_type": "stream",
       "stream": "stdout",
       "text": [
        "\n",
        "(6, 22, 1000)"
       ]
      },
      {
       "output_type": "stream",
       "stream": "stdout",
       "text": [
        "\n",
        "[488.5894737244337 485.68115320756294 482.77283269069227 ..., -- -- --]\n",
        "theta_e"
       ]
      },
      {
       "output_type": "stream",
       "stream": "stdout",
       "text": [
        "\n",
        "(6, 22, 1000)"
       ]
      },
      {
       "output_type": "stream",
       "stream": "stdout",
       "text": [
        "\n",
        "[-- 486.7453745025347 485.9551103968091 ..., -- -- --]\n",
        "theta_e"
       ]
      },
      {
       "output_type": "stream",
       "stream": "stdout",
       "text": [
        "\n",
        "(6, 22, 1000)"
       ]
      },
      {
       "output_type": "stream",
       "stream": "stdout",
       "text": [
        "\n",
        "local variable 'cont' referenced before assignment\n",
        "(6, 22, 1000)\n",
        "[-- -- -- ..., -- -- --]\n",
        "theta_e_sat"
       ]
      },
      {
       "output_type": "stream",
       "stream": "stdout",
       "text": [
        "\n",
        "(6, 22, 1000)"
       ]
      },
      {
       "output_type": "stream",
       "stream": "stdout",
       "text": [
        "\n",
        "[487.0458299947411 -- 472.6990937311309 ..., -- -- --]\n",
        "theta_e_sat"
       ]
      },
      {
       "output_type": "stream",
       "stream": "stdout",
       "text": [
        "\n",
        "(6, 22, 1000)"
       ]
      },
      {
       "output_type": "stream",
       "stream": "stdout",
       "text": [
        "\n",
        "[484.8541312357221 484.935659820351 481.8319611819401 ..., -- -- --]\n",
        "theta_e_sat"
       ]
      },
      {
       "output_type": "stream",
       "stream": "stdout",
       "text": [
        "\n",
        "(6, 22, 1000)"
       ]
      },
      {
       "output_type": "stream",
       "stream": "stdout",
       "text": [
        "\n",
        "[490.9702650917624 -- -- ..., -- -- --]\n",
        "theta_e_sat"
       ]
      },
      {
       "output_type": "stream",
       "stream": "stdout",
       "text": [
        "\n",
        "(6, 22, 1000)"
       ]
      },
      {
       "output_type": "stream",
       "stream": "stdout",
       "text": [
        "\n",
        "[481.6967319442769 -- -- ..., -- -- --]\n",
        "theta_e_sat"
       ]
      },
      {
       "output_type": "stream",
       "stream": "stdout",
       "text": [
        "\n",
        "(6, 22, 1000)"
       ]
      },
      {
       "output_type": "stream",
       "stream": "stdout",
       "text": [
        "\n",
        "[-- -- -- ..., -- -- --]\n",
        "theta_e_sat"
       ]
      },
      {
       "output_type": "stream",
       "stream": "stdout",
       "text": [
        "\n",
        "(6, 22, 1000)"
       ]
      },
      {
       "output_type": "stream",
       "stream": "stdout",
       "text": [
        "\n",
        "[492.20712588259437 487.8476445534063 -- ..., -- -- --]\n",
        "theta_e_sat"
       ]
      },
      {
       "output_type": "stream",
       "stream": "stdout",
       "text": [
        "\n",
        "(6, 22, 1000)"
       ]
      },
      {
       "output_type": "stream",
       "stream": "stdout",
       "text": [
        "\n",
        "[480.2458601217448 -- -- ..., -- -- --]\n",
        "theta_e_sat"
       ]
      },
      {
       "output_type": "stream",
       "stream": "stdout",
       "text": [
        "\n",
        "(6, 22, 1000)"
       ]
      },
      {
       "output_type": "stream",
       "stream": "stdout",
       "text": [
        "\n",
        "[494.9298992877191 489.74818848398496 -- ..., -- -- --]\n",
        "theta_e_sat"
       ]
      },
      {
       "output_type": "stream",
       "stream": "stdout",
       "text": [
        "\n",
        "(6, 22, 1000)"
       ]
      },
      {
       "output_type": "stream",
       "stream": "stdout",
       "text": [
        "\n",
        "[-- 488.1943425422524 484.92551956925297 ..., -- -- --]\n",
        "theta_e_sat"
       ]
      },
      {
       "output_type": "stream",
       "stream": "stdout",
       "text": [
        "\n",
        "(6, 22, 1000)"
       ]
      },
      {
       "output_type": "stream",
       "stream": "stdout",
       "text": [
        "\n",
        "[489.74045315244837 487.4547411116422 484.923383923965 ..., -- -- --]\n",
        "theta_e_sat"
       ]
      },
      {
       "output_type": "stream",
       "stream": "stdout",
       "text": [
        "\n",
        "(6, 22, 1000)"
       ]
      },
      {
       "output_type": "stream",
       "stream": "stdout",
       "text": [
        "\n",
        "[-- -- -- ..., -- -- --]\n",
        "theta_e_sat"
       ]
      },
      {
       "output_type": "stream",
       "stream": "stdout",
       "text": [
        "\n",
        "(6, 22, 1000)"
       ]
      },
      {
       "output_type": "stream",
       "stream": "stdout",
       "text": [
        "\n",
        "[489.65985810492714 484.40912866460104 481.2176832327901 ..., -- -- --]\n",
        "theta_e_sat"
       ]
      },
      {
       "output_type": "stream",
       "stream": "stdout",
       "text": [
        "\n",
        "(6, 22, 1000)"
       ]
      },
      {
       "output_type": "stream",
       "stream": "stdout",
       "text": [
        "\n",
        "[486.5574525456465 -- -- ..., -- -- --]\n",
        "theta_e_sat"
       ]
      },
      {
       "output_type": "stream",
       "stream": "stdout",
       "text": [
        "\n",
        "(6, 22, 1000)"
       ]
      },
      {
       "output_type": "stream",
       "stream": "stdout",
       "text": [
        "\n",
        "[489.6774000532782 489.9197998288292 485.9032612727689 ..., -- -- --]\n",
        "theta_e_sat"
       ]
      },
      {
       "output_type": "stream",
       "stream": "stdout",
       "text": [
        "\n",
        "(6, 22, 1000)"
       ]
      },
      {
       "output_type": "stream",
       "stream": "stdout",
       "text": [
        "\n",
        "[-- -- -- ..., -- -- --]\n",
        "theta_e_sat"
       ]
      },
      {
       "output_type": "stream",
       "stream": "stdout",
       "text": [
        "\n",
        "(6, 22, 1000)"
       ]
      },
      {
       "output_type": "stream",
       "stream": "stdout",
       "text": [
        "\n",
        "[490.74367591668283 483.931186646676 479.14383719860143 ..., -- -- --]\n",
        "theta_e_sat"
       ]
      },
      {
       "output_type": "stream",
       "stream": "stdout",
       "text": [
        "\n",
        "(6, 22, 1000)"
       ]
      },
      {
       "output_type": "stream",
       "stream": "stdout",
       "text": [
        "\n",
        "[-- -- -- ..., -- -- --]\n",
        "theta_e_sat"
       ]
      },
      {
       "output_type": "stream",
       "stream": "stdout",
       "text": [
        "\n",
        "(6, 22, 1000)"
       ]
      },
      {
       "output_type": "stream",
       "stream": "stdout",
       "text": [
        "\n",
        "[493.44817170701987 493.34031344545593 488.7538653403622 ..., -- -- --]\n",
        "theta_e_sat"
       ]
      },
      {
       "output_type": "stream",
       "stream": "stdout",
       "text": [
        "\n",
        "(6, 22, 1000)"
       ]
      },
      {
       "output_type": "stream",
       "stream": "stdout",
       "text": [
        "\n",
        "[489.00403088997217 486.0787148399422 483.15339878991233 ..., -- -- --]\n",
        "theta_e_sat"
       ]
      },
      {
       "output_type": "stream",
       "stream": "stdout",
       "text": [
        "\n",
        "(6, 22, 1000)"
       ]
      },
      {
       "output_type": "stream",
       "stream": "stdout",
       "text": [
        "\n",
        "[-- 487.4358142230027 486.67764553124164 ..., -- -- --]\n",
        "theta_e_sat"
       ]
      },
      {
       "output_type": "stream",
       "stream": "stdout",
       "text": [
        "\n",
        "(6, 22, 1000)"
       ]
      },
      {
       "output_type": "stream",
       "stream": "stdout",
       "text": [
        "\n",
        "local variable 'cont' referenced before assignment\n",
        "(6, 22, 1000)\n",
        "[-- -- -- ..., -- -- --]\n",
        "wvmr"
       ]
      },
      {
       "output_type": "stream",
       "stream": "stdout",
       "text": [
        "\n",
        "(6, 22, 1000)"
       ]
      },
      {
       "output_type": "stream",
       "stream": "stdout",
       "text": [
        "\n",
        "[1.273941302624783e-05 -- 1.2879679865289147e-05 ..., -- -- --]\n",
        "wvmr"
       ]
      },
      {
       "output_type": "stream",
       "stream": "stdout",
       "text": [
        "\n",
        "(6, 22, 1000)"
       ]
      },
      {
       "output_type": "stream",
       "stream": "stdout",
       "text": [
        "\n",
        "[1.3776729761690284e-05 6.791073653201061e-06 7.103032033515186e-06 ..., --\n",
        " -- --]\n",
        "wvmr"
       ]
      },
      {
       "output_type": "stream",
       "stream": "stdout",
       "text": [
        "\n",
        "(6, 22, 1000)"
       ]
      },
      {
       "output_type": "stream",
       "stream": "stdout",
       "text": [
        "\n",
        "[7.269956961065977e-06 -- -- ..., -- -- --]\n",
        "wvmr"
       ]
      },
      {
       "output_type": "stream",
       "stream": "stdout",
       "text": [
        "\n",
        "(6, 22, 1000)"
       ]
      },
      {
       "output_type": "stream",
       "stream": "stdout",
       "text": [
        "\n",
        "[7.518805304029912e-06 -- -- ..., -- -- --]\n",
        "wvmr"
       ]
      },
      {
       "output_type": "stream",
       "stream": "stdout",
       "text": [
        "\n",
        "(6, 22, 1000)"
       ]
      },
      {
       "output_type": "stream",
       "stream": "stdout",
       "text": [
        "\n",
        "[-- -- -- ..., -- -- --]\n",
        "wvmr"
       ]
      },
      {
       "output_type": "stream",
       "stream": "stdout",
       "text": [
        "\n",
        "(6, 22, 1000)"
       ]
      },
      {
       "output_type": "stream",
       "stream": "stdout",
       "text": [
        "\n",
        "[4.4533295107653865e-05 3.923828261203499e-05 -- ..., -- -- --]\n",
        "wvmr"
       ]
      },
      {
       "output_type": "stream",
       "stream": "stdout",
       "text": [
        "\n",
        "(6, 22, 1000)"
       ]
      },
      {
       "output_type": "stream",
       "stream": "stdout",
       "text": [
        "\n",
        "[5.730327887694869e-06 -- -- ..., -- -- --]\n",
        "wvmr"
       ]
      },
      {
       "output_type": "stream",
       "stream": "stdout",
       "text": [
        "\n",
        "(6, 22, 1000)"
       ]
      },
      {
       "output_type": "stream",
       "stream": "stdout",
       "text": [
        "\n",
        "[4.497255407690685e-05 5.9054421027313735e-05 -- ..., -- -- --]\n",
        "wvmr"
       ]
      },
      {
       "output_type": "stream",
       "stream": "stdout",
       "text": [
        "\n",
        "(6, 22, 1000)"
       ]
      },
      {
       "output_type": "stream",
       "stream": "stdout",
       "text": [
        "\n",
        "[-- 7.754149452449825e-06 7.989493600869736e-06 ..., -- -- --]\n",
        "wvmr"
       ]
      },
      {
       "output_type": "stream",
       "stream": "stdout",
       "text": [
        "\n",
        "(6, 22, 1000)"
       ]
      },
      {
       "output_type": "stream",
       "stream": "stdout",
       "text": [
        "\n",
        "[1.0161160027479108e-05 1.0018767160398444e-05 1.0543436662450177e-05 ...,\n",
        " -- -- --]\n",
        "wvmr"
       ]
      },
      {
       "output_type": "stream",
       "stream": "stdout",
       "text": [
        "\n",
        "(6, 22, 1000)"
       ]
      },
      {
       "output_type": "stream",
       "stream": "stdout",
       "text": [
        "\n",
        "[-- -- -- ..., -- -- --]\n",
        "wvmr"
       ]
      },
      {
       "output_type": "stream",
       "stream": "stdout",
       "text": [
        "\n",
        "(6, 22, 1000)"
       ]
      },
      {
       "output_type": "stream",
       "stream": "stdout",
       "text": [
        "\n",
        "[1.2561036715138358e-05 8.958666491207323e-06 8.913707854352554e-06 ..., --\n",
        " -- --]\n",
        "wvmr"
       ]
      },
      {
       "output_type": "stream",
       "stream": "stdout",
       "text": [
        "\n",
        "(6, 22, 1000)"
       ]
      },
      {
       "output_type": "stream",
       "stream": "stdout",
       "text": [
        "\n",
        "[1.9873956908562182e-05 -- -- ..., -- -- --]\n",
        "wvmr"
       ]
      },
      {
       "output_type": "stream",
       "stream": "stdout",
       "text": [
        "\n",
        "(6, 22, 1000)"
       ]
      },
      {
       "output_type": "stream",
       "stream": "stdout",
       "text": [
        "\n",
        "[2.3095502503623664e-05 2.9595174788865084e-05 2.7704470331159372e-05 ...,\n",
        " -- -- --]\n",
        "wvmr"
       ]
      },
      {
       "output_type": "stream",
       "stream": "stdout",
       "text": [
        "\n",
        "(6, 22, 1000)"
       ]
      },
      {
       "output_type": "stream",
       "stream": "stdout",
       "text": [
        "\n",
        "[-- -- -- ..., -- -- --]\n",
        "wvmr"
       ]
      },
      {
       "output_type": "stream",
       "stream": "stdout",
       "text": [
        "\n",
        "(6, 22, 1000)"
       ]
      },
      {
       "output_type": "stream",
       "stream": "stdout",
       "text": [
        "\n",
        "[1.781975320763972e-05 1.5234004695903487e-05 1.2942085220341132e-05 ...,\n",
        " -- -- --]\n",
        "wvmr"
       ]
      },
      {
       "output_type": "stream",
       "stream": "stdout",
       "text": [
        "\n",
        "(6, 22, 1000)"
       ]
      },
      {
       "output_type": "stream",
       "stream": "stdout",
       "text": [
        "\n",
        "[-- -- -- ..., -- -- --]\n",
        "wvmr"
       ]
      },
      {
       "output_type": "stream",
       "stream": "stdout",
       "text": [
        "\n",
        "(6, 22, 1000)"
       ]
      },
      {
       "output_type": "stream",
       "stream": "stdout",
       "text": [
        "\n",
        "[2.7603686499964765e-05 3.200846970882377e-05 2.956336652670361e-05 ..., --\n",
        " -- --]\n",
        "wvmr"
       ]
      },
      {
       "output_type": "stream",
       "stream": "stdout",
       "text": [
        "\n",
        "(6, 22, 1000)"
       ]
      },
      {
       "output_type": "stream",
       "stream": "stdout",
       "text": [
        "\n",
        "[4.908862945690331e-05 4.712499188234853e-05 4.516135430779377e-05 ..., --\n",
        " -- --]\n",
        "wvmr"
       ]
      },
      {
       "output_type": "stream",
       "stream": "stdout",
       "text": [
        "\n",
        "(6, 22, 1000)"
       ]
      },
      {
       "output_type": "stream",
       "stream": "stdout",
       "text": [
        "\n",
        "[-- 1.3424835083743006e-05 1.63671036085435e-05 ..., -- -- --]\n",
        "wvmr"
       ]
      },
      {
       "output_type": "stream",
       "stream": "stdout",
       "text": [
        "\n",
        "(6, 22, 1000)"
       ]
      },
      {
       "output_type": "stream",
       "stream": "stdout",
       "text": [
        "\n",
        "local variable 'cont' referenced before assignment\n",
        "(6, 22, 1000)\n",
        "[-- -- -- ..., -- -- --]\n",
        "theta_e_sat"
       ]
      },
      {
       "output_type": "stream",
       "stream": "stdout",
       "text": [
        "\n",
        "(6, 22, 1000)"
       ]
      },
      {
       "output_type": "stream",
       "stream": "stdout",
       "text": [
        "\n",
        "[0.5810207909472069 -- 0.2927460039108496 ..., -- -- --]\n",
        "theta_e_sat"
       ]
      },
      {
       "output_type": "stream",
       "stream": "stdout",
       "text": [
        "\n",
        "(6, 22, 1000)"
       ]
      },
      {
       "output_type": "stream",
       "stream": "stdout",
       "text": [
        "\n",
        "[0.4992548536142749 0.6553495465814194 0.6329606448040295 ..., -- -- --]\n",
        "theta_e_sat"
       ]
      },
      {
       "output_type": "stream",
       "stream": "stdout",
       "text": [
        "\n",
        "(6, 22, 1000)"
       ]
      },
      {
       "output_type": "stream",
       "stream": "stdout",
       "text": [
        "\n",
        "[0.7810677381701225 -- -- ..., -- -- --]\n",
        "theta_e_sat"
       ]
      },
      {
       "output_type": "stream",
       "stream": "stdout",
       "text": [
        "\n",
        "(6, 22, 1000)"
       ]
      },
      {
       "output_type": "stream",
       "stream": "stdout",
       "text": [
        "\n",
        "[0.441976880341997 -- -- ..., -- -- --]\n",
        "theta_e_sat"
       ]
      },
      {
       "output_type": "stream",
       "stream": "stdout",
       "text": [
        "\n",
        "(6, 22, 1000)"
       ]
      },
      {
       "output_type": "stream",
       "stream": "stdout",
       "text": [
        "\n",
        "[-- -- -- ..., -- -- --]\n",
        "theta_e_sat"
       ]
      },
      {
       "output_type": "stream",
       "stream": "stdout",
       "text": [
        "\n",
        "(6, 22, 1000)"
       ]
      },
      {
       "output_type": "stream",
       "stream": "stdout",
       "text": [
        "\n",
        "[0.5884671945151467 0.5238108333321065 -- ..., -- -- --]\n",
        "theta_e_sat"
       ]
      },
      {
       "output_type": "stream",
       "stream": "stdout",
       "text": [
        "\n",
        "(6, 22, 1000)"
       ]
      },
      {
       "output_type": "stream",
       "stream": "stdout",
       "text": [
        "\n",
        "[0.4146000123295721 -- -- ..., -- -- --]\n",
        "theta_e_sat"
       ]
      },
      {
       "output_type": "stream",
       "stream": "stdout",
       "text": [
        "\n",
        "(6, 22, 1000)"
       ]
      },
      {
       "output_type": "stream",
       "stream": "stdout",
       "text": [
        "\n",
        "[0.7200282026823857 0.48367887880152693 -- ..., -- -- --]\n",
        "theta_e_sat"
       ]
      },
      {
       "output_type": "stream",
       "stream": "stdout",
       "text": [
        "\n",
        "(6, 22, 1000)"
       ]
      },
      {
       "output_type": "stream",
       "stream": "stdout",
       "text": [
        "\n",
        "[-- 0.7525965847373755 0.7033281655312749 ..., -- -- --]\n",
        "theta_e_sat"
       ]
      },
      {
       "output_type": "stream",
       "stream": "stdout",
       "text": [
        "\n",
        "(6, 22, 1000)"
       ]
      },
      {
       "output_type": "stream",
       "stream": "stdout",
       "text": [
        "\n",
        "[0.7066413292048992 0.6994306618441897 0.677065045426616 ..., -- -- --]\n",
        "theta_e_sat"
       ]
      },
      {
       "output_type": "stream",
       "stream": "stdout",
       "text": [
        "\n",
        "(6, 22, 1000)"
       ]
      },
      {
       "output_type": "stream",
       "stream": "stdout",
       "text": [
        "\n",
        "[-- -- -- ..., -- -- --]\n",
        "theta_e_sat"
       ]
      },
      {
       "output_type": "stream",
       "stream": "stdout",
       "text": [
        "\n",
        "(6, 22, 1000)"
       ]
      },
      {
       "output_type": "stream",
       "stream": "stdout",
       "text": [
        "\n",
        "[0.844213751647942 0.6291412316934384 0.5958104272422702 ..., -- -- --]\n",
        "theta_e_sat"
       ]
      },
      {
       "output_type": "stream",
       "stream": "stdout",
       "text": [
        "\n",
        "(6, 22, 1000)"
       ]
      },
      {
       "output_type": "stream",
       "stream": "stdout",
       "text": [
        "\n",
        "[0.5142760075366368 -- -- ..., -- -- --]\n",
        "theta_e_sat"
       ]
      },
      {
       "output_type": "stream",
       "stream": "stdout",
       "text": [
        "\n",
        "(6, 22, 1000)"
       ]
      },
      {
       "output_type": "stream",
       "stream": "stdout",
       "text": [
        "\n",
        "[0.6330110453020552 0.6990694788941028 0.640343778378508 ..., -- -- --]\n",
        "theta_e_sat"
       ]
      },
      {
       "output_type": "stream",
       "stream": "stdout",
       "text": [
        "\n",
        "(6, 22, 1000)"
       ]
      },
      {
       "output_type": "stream",
       "stream": "stdout",
       "text": [
        "\n",
        "[-- -- -- ..., -- -- --]\n",
        "theta_e_sat"
       ]
      },
      {
       "output_type": "stream",
       "stream": "stdout",
       "text": [
        "\n",
        "(6, 22, 1000)"
       ]
      },
      {
       "output_type": "stream",
       "stream": "stdout",
       "text": [
        "\n",
        "[0.7158580305673468 0.5363774300832347 0.4736232084434846 ..., -- -- --]\n",
        "theta_e_sat"
       ]
      },
      {
       "output_type": "stream",
       "stream": "stdout",
       "text": [
        "\n",
        "(6, 22, 1000)"
       ]
      },
      {
       "output_type": "stream",
       "stream": "stdout",
       "text": [
        "\n",
        "[-- -- -- ..., -- -- --]\n",
        "theta_e_sat"
       ]
      },
      {
       "output_type": "stream",
       "stream": "stdout",
       "text": [
        "\n",
        "(6, 22, 1000)"
       ]
      },
      {
       "output_type": "stream",
       "stream": "stdout",
       "text": [
        "\n",
        "[0.7669206341229824 0.8507630631384586 0.7375270621516847 ..., -- -- --]\n",
        "theta_e_sat"
       ]
      },
      {
       "output_type": "stream",
       "stream": "stdout",
       "text": [
        "\n",
        "(6, 22, 1000)"
       ]
      },
      {
       "output_type": "stream",
       "stream": "stdout",
       "text": [
        "\n",
        "[0.414557165538497 0.3975616323792792 0.38056609922006146 ..., -- -- --]\n",
        "theta_e_sat"
       ]
      },
      {
       "output_type": "stream",
       "stream": "stdout",
       "text": [
        "\n",
        "(6, 22, 1000)"
       ]
      },
      {
       "output_type": "stream",
       "stream": "stdout",
       "text": [
        "\n",
        "[-- 0.6904397204680208 0.722535134432519 ..., -- -- --]\n",
        "theta_e_sat"
       ]
      },
      {
       "output_type": "stream",
       "stream": "stdout",
       "text": [
        "\n"
       ]
      },
      {
       "output_type": "stream",
       "stream": "stderr",
       "text": [
        "Traceback (most recent call last):\n",
        "  File \"<ipython-input-13-8376053bdfe2>\", line 200, in <module>\n",
        "    cont,cbar = date_bin_plot(i, date_bin, concat_plot_variable, pressures, distances, min_contour, max_contour)\n",
        "  File \"<ipython-input-13-8376053bdfe2>\", line 162, in date_bin_plot\n",
        "    return cont,cbar\n",
        "UnboundLocalError: local variable 'cont' referenced before assignment\n"
       ]
      }
     ],
     "prompt_number": 13
    },
    {
     "cell_type": "code",
     "collapsed": false,
     "input": [
      "#Monthly Climatology\n",
      "\n",
      "import matplotlib\n",
      "import matplotlib.pyplot as plt\n",
      "import matplotlib.mlab as ml\n",
      "\n",
      "import datetime\n",
      "\n",
      "from dateutil.relativedelta import relativedelta\n",
      "\n",
      "import re\n",
      "\n",
      "import numpy as np\n",
      "\n",
      "from math import sin, cos, atan2, radians, sqrt\n",
      "\n",
      "import scipy.interpolate\n",
      "\n",
      "import gc\n",
      "\n",
      "import pdb\n",
      "import traceback\n",
      "\n",
      "Cross_Section_Title = 'Vizag_to_Afghanistan'\n",
      "station_list_cs=[43150, 42867, 43014, 42339, 40990, 40948]\n",
      "\n",
      "first_station=43150\n",
      "\n",
      "date_min=datetime.datetime(2011,5,1,0,0,0)\n",
      "date_max=datetime.datetime(2011,10,1,0,0,0)\n",
      "\n",
      "delta = relativedelta(weeks=+1)\n",
      "\n",
      "\n",
      "    \n",
      "def station_info_search(stat):\n",
      "    for line in station_metadata:\n",
      "     if \"%s\" % stat in line: \n",
      "      st = line[2].lower().title().replace('_',' ')\n",
      "      lo = float(line[3])\n",
      "      la = float(line[4])\n",
      "    return st,la,lo\n",
      "\n",
      "def calculate_distance_from_first_station(stat, first_station_lon, first_station_lat, station_lat, station_lon):\n",
      "\n",
      " fslat_rad = radians(first_station_lat)\n",
      " fslon_rad = radians(first_station_lon)\n",
      " lat_rad = radians(station_lat)\n",
      " lon_rad = radians(station_lon)\n",
      "\n",
      " #Haversine Formula\n",
      "    \n",
      " a = sin((lat_rad-fslat_rad)/2)**2 + cos(lat_rad) * cos(fslat_rad) * sin((lon_rad-fslon_rad)/2)**2\n",
      " c = 2 * atan2(sqrt(a), sqrt(1-a))\n",
      " d = 6371 * c\n",
      "\n",
      " return d\n",
      "\n",
      "def variable_name_index_match(variable, variable_list):\n",
      " for key, value in variable_list.iteritems():   # iter on both keys and values\n",
      "        if key.startswith('%s' % variable):\n",
      "                arr_index_var=value \n",
      " return arr_index_var\n",
      "            \n",
      "def variable_cat(var_index, station_list_cs):\n",
      "    var_cat=[]\n",
      "    distances=[]\n",
      "    date_min_max=[]\n",
      "    \n",
      "    for stat in station_list_cs:\n",
      "     load_file = np.load('/nfs/a90/eepdw/Data/Observations/Radiosonde_Numpy/Radiosonde_Cross_Section_'\n",
      "                        'IND_SOUNDING_INTERP_MEAN_%s_%s_%s_%s_%s.npz' \n",
      "                        % (Cross_Section_Title, date_min.strftime('%Y%m%d'), date_max.strftime('%Y%m%d'), delta, stat))\n",
      "  \n",
      "     #print load_file['date_bin_mean_all_dates_one_station'].shape\n",
      "\n",
      "     if date_min_max ==[]:\n",
      "      date_min_max=np.empty(load_file['min_max_date_bin'].shape)\n",
      "        \n",
      "     station_title, station_lon, station_lat = station_info_search(stat)\n",
      "    \n",
      "     dist_from_first_station = calculate_distance_from_first_station(stat, first_station_lon, first_station_lat, station_lat, station_lon)\n",
      "    \n",
      "     #print dist_from_first_station\n",
      "     #print load_file['date_bin_mean_all_dates_one_station'][:,var_index,:].shape\n",
      "     var_cat.append(load_file['date_bin_mean_all_dates_one_station'][:,var_index,:])\n",
      "     distances.append(dist_from_first_station)\n",
      "     #pdb.set_trace()\n",
      "     #if load_file['min_max_date_bin'].any() != np.NAN:\n",
      "     #date_min_max=np.ma.masked_outside(load_file['min_max_date_bin'], date_min, date_max ).data\n",
      "     date_min_max = np.where((load_file['min_max_date_bin']>date_min) & (load_file['min_max_date_bin']<date_max), load_file['min_max_date_bin'], date_min_max )\n",
      "    #print np.array(var_cat).shape\n",
      "    #print date_min_max\n",
      "    return np.array(var_cat), np.array(distances, dtype=float), date_min_max\n",
      "\n",
      "def station_name_plot(station_list_cs, first_station, yi):    \n",
      " y_offset_text=0\n",
      " first_station_title, first_station_lon, first_station_lat = station_info_search(first_station)\n",
      "    \n",
      " \n",
      " for stat in station_list_cs: \n",
      "     \n",
      "   station_title, station_lon, station_lat = station_info_search(stat)\n",
      "    \n",
      "   dist_from_first_station = calculate_distance_from_first_station(stat, first_station_lon, first_station_lat, station_lat, station_lon)\n",
      "    \n",
      "   plt.axvline(x=dist_from_first_station, ymin=0, ymax=1, label=station_title, color='k')\n",
      "   plt.text(dist_from_first_station+0.1,max(yi)/100+20,station_title,rotation=-45)\n",
      "\n",
      "   y_offset_text=+1   \n",
      "    \n",
      "def grid_data_cs(pressure, distance, param):\n",
      " xi=np.linspace(0, max(distance), 1000) \n",
      " #yi=np.linspace(np.nanmin(pressure), np.nanmax(pressure), 500) \n",
      " yi=np.linspace(5000, 100000, 50) # Points for pressure interpolation\n",
      "\n",
      " #yi=np.array([1000, 925, 850, 700, 500, 400, 300, 250, 200, 150, 100, 70, 50, 30, 20,10], dtype=float)\n",
      " #yi=np.array([10, 20, 30, 50, 70, 100, 150, 200, 250, 300, 400, 500, 700, 850, 925, 1000]*100, dtype=float)\n",
      " \n",
      "\n",
      " try:\n",
      "    zi = ml.griddata(distance, pressure,param,xi, yi, interp='nn')\n",
      "    #zi = scipy.interpolate.griddata((distance, pressure),  param, (xi[None,:],yi[:,None]), method='linear')\n",
      " except Exception, e:\n",
      "  print e\n",
      " return xi,yi,zi \n",
      " #return xi,yi\n",
      "def plot_rad_cs(xi,yi,zi, min_contour, max_contour):\n",
      " clevs = np.linspace(min_contour, max_contour,256)\n",
      " ticks = (np.arange(min_contour, max_contour+tick_interval,tick_interval))\n",
      "\n",
      " plt.figure(figsize=(14,8))\n",
      " cmap=plt.cm.jet\n",
      " cont = plt.contourf(xi,yi/100, zi, clevs, cmap=cmap, extend='both')\n",
      "\n",
      " cbar = plt.colorbar(cont, orientation='vertical', pad=0.05, extend='both', format = '$%d$')\n",
      " #cbar.set_label('$W m^{-2}$') \n",
      " cbar.set_ticks(np.arange(min_contour, max_contour+tick_interval,tick_interval))\n",
      " cbar.set_ticklabels(['${%d}$' % i for i in ticks])\n",
      "    \n",
      " plt.gca().invert_yaxis()\n",
      " plt.ylabel('Pressure (hPa)')\n",
      " plt.xlabel('km from first station')\n",
      " print variable\n",
      "    \n",
      " return cont,cbar\n",
      "\n",
      "def date_bin_plot(i, date_bin, concat_plot_variable, pressures, distances, min_contour, max_contour):\n",
      "  nan_mask = np.ma.masked_array(np.array(concat_plot_variable[:,i,:], dtype=float).flatten(), np.isnan(np.array(concat_plot_variable[:,i,:], dtype=float).flatten()))\n",
      " #print nan_mask\n",
      "  print concat_plot_variable.shape\n",
      " \n",
      "  try:    \n",
      "   if nan_mask.mask.all() == False:\n",
      "    print nan_mask\n",
      "    xi,yi, zi = grid_data_cs(np.array(pressures[:,i,:], dtype=float).flatten(), np.repeat(distances, concat_plot_variable[:,i,:].shape[1]).flatten(), nan_mask) \n",
      "    \n",
      "    cont,cbar = plot_rad_cs(xi, yi, zi, min_contour, max_contour)\n",
      "    station_name_plot(station_list_cs, first_station, yi)\n",
      "  except Exception, e:\n",
      "   print e\n",
      "  return cont,cbar\n",
      "        \n",
      "station_list_search='/nfs/a90/eepdw/Data/Observations/Radiosonde_downloaded_from_NOAA_GUAN/igra-stations.txt'\n",
      "station_metadata=[]\n",
      "f = open(station_list_search,'r')\n",
      "for line in f:\n",
      "     line = line.strip()\n",
      "     line=re.sub(r'([A-Z])\\s([A-Z])', r'\\1_\\2',line)\n",
      "     line=re.sub(r'([A-Z])\\s\\s([A-Z])', r'\\1_\\2',line)\n",
      "     station_metadata.append(line.split())\n",
      "f.close()\n",
      "\n",
      "first_station_title, first_station_lon, first_station_lat = station_info_search(first_station)\n",
      "\n",
      "variable_list={'pressures': 0, 'temps':1, 'dewpoints':2, 'winddirs':3, 'windspeeds':4, 'pot_temp':5, \n",
      "               'sat_vap_pres':6, 'vap_press':7, 'rel_hum':8, 'wvmr':9, 'sp_hum':10, 'sat_temp':11, 'theta_e':12, 'theta_e_sat':13}\n",
      "\n",
      "variable='pressures'\n",
      "\n",
      "var_index = variable_name_index_match(variable, variable_list)\n",
      "pressures, distances, date_min_max = variable_cat(var_index, station_list_cs)\n",
      "\n",
      "variable='rel_hum'\n",
      "\n",
      "var_index = variable_name_index_match(variable, variable_list)\n",
      "concat_plot_variable, distances, date_min_max = variable_cat(var_index, station_list_cs)\n",
      "\n",
      "max_contour=100\n",
      "min_contour=0\n",
      "tick_interval=10\n",
      "    \n",
      "for i, date_bin in enumerate(date_min_max[:,0]):\n",
      "        \n",
      " try:\n",
      "  cont,cbar = date_bin_plot(i, date_bin, concat_plot_variable, pressures, distances, min_contour, max_contour)\n",
      "        \n",
      "  cbar.set_label('\\%', rotation=90)\n",
      "\n",
      "  print date_bin\n",
      "  \n",
      "  plt.title('%s %s Cross-Section of Relative Humidity from Radiosonde Soundings' % (date_bin.strftime(\"%d %B\"), Cross_Section_Title.replace('_',' ') ))\n",
      "\n",
      "  #plt.show()\n",
      "  \n",
      "  plt.savefig('/nfs/a90/eepdw/Figures/Radiosonde/Cross_Sections/%s_%s_%s_Relative_Humidity.png' % (Cross_Section_Title, date_bin.strftime(\"%y\"), date_bin.strftime(\"%d_%B\")),  format='png', bbox_inches='tight')\n",
      "  plt.close()\n",
      "  plt.clf()\n",
      "  gc.collect()\n",
      " except Exception, e:\n",
      "   print e\n",
      "        \n",
      "#Potential Temperature\n",
      "\n",
      "variable='pot_temp'\n",
      "\n",
      "var_index = variable_name_index_match(variable, variable_list)\n",
      "concat_plot_variable, distances, date_min_max = variable_cat(var_index, station_list_cs)\n",
      "\n",
      "max_contour=300\n",
      "min_contour=250\n",
      "tick_interval=10\n",
      "    \n",
      "for i, date_bin in enumerate(date_min_max[:,0]):\n",
      "        \n",
      " try:\n",
      "  cont,cbar = date_bin_plot(i, date_bin, concat_plot_variable, pressures, distances, min_contour, max_contour)\n",
      "        \n",
      "  cbar.set_label('\\%', rotation=90)\n",
      "  plt.title('Week beg. %s %s Cross-Section of Potential Temperature from Radiosonde Soundings' % (date_bin.strftime(\"%d %B\"), Cross_Section_Title.replace('_',' ') ))\n",
      "\n",
      "  #plt.show()\n",
      "  plt.savefig('/nfs/a90/eepdw/Figures/Radiosonde/Cross_Sections/%s_%s_%s_pottemp.png' % (Cross_Section_Title, date_bin.strftime(\"%y\"), date_bin.strftime(\"%d_%B\")),  format='png', bbox_inches='tight')\n",
      "  plt.close()\n",
      "  plt.clf()\n",
      "  gc.collect()\n",
      " except Exception, e:\n",
      "   print e\n",
      "   traceback.print_exc()\n",
      "\n",
      "\n",
      "#Theta E\n",
      "\n",
      "variable='theta_e'\n",
      "\n",
      "var_index = variable_name_index_match(variable, variable_list)\n",
      "concat_plot_variable, distances, date_min_max = variable_cat(var_index, station_list_cs)\n",
      "\n",
      "max_contour=380\n",
      "min_contour=330\n",
      "tick_interval=10\n",
      "    \n",
      "for i, date_bin in enumerate(date_min_max[:,0]):\n",
      "        \n",
      " try:\n",
      "  cont,cbar = date_bin_plot(i, date_bin, concat_plot_variable, pressures, distances, min_contour, max_contour)\n",
      "        \n",
      "  cbar.set_label('K', rotation=90)\n",
      "  plt.title('Week beg. %s %s Cross-Section of Equivalent Potential Temperature from Radiosonde Soundings' % (date_bin.strftime(\"%d %B\"), Cross_Section_Title.replace('_',' ') ))\n",
      "\n",
      "  #plt.show()\n",
      "  plt.savefig('/nfs/a90/eepdw/Figures/Radiosonde/Cross_Sections/%s_%s_%s_thetae.png' % (Cross_Section_Title, date_bin.strftime(\"%y\"), date_bin.strftime(\"%d_%B\")),  format='png', bbox_inches='tight')\n",
      "  plt.close()\n",
      "  plt.clf()\n",
      "  gc.collect()\n",
      " except Exception, e:\n",
      "   print e\n",
      "\n",
      "#Theta Es\n",
      "\n",
      "variable='theta_e_sat'\n",
      "\n",
      "var_index = variable_name_index_match(variable, variable_list)\n",
      "concat_plot_variable, distances, date_min_max = variable_cat(var_index, station_list_cs)\n",
      "\n",
      "max_contour=360\n",
      "min_contour=330\n",
      "tick_interval=10\n",
      "    \n",
      "for i, date_bin in enumerate(date_min_max[:,0]):\n",
      "        \n",
      " try:\n",
      "  cont,cbar = date_bin_plot(i, date_bin, concat_plot_variable, pressures, distances, min_contour, max_contour)\n",
      "        \n",
      "  cbar.set_label('K', rotation=90)\n",
      "  plt.title('Week beg. %s %s Cross-Section of Saturated Equivalent Potential Temperature from Radiosonde Soundings' % (date_bin.strftime(\"%d %B\"), Cross_Section_Title.replace('_',' ') ))\n",
      "\n",
      "  #plt.show()\n",
      "  plt.savefig('/nfs/a90/eepdw/Figures/Radiosonde/Cross_Sections/%s_%s_%s_thetaesat.png' % (Cross_Section_Title, date_bin.strftime(\"%y\"), date_bin.strftime(\"%d_%B\")),  format='png', bbox_inches='tight')\n",
      "  plt.close()\n",
      "  plt.clf()\n",
      "  gc.collect()\n",
      " except Exception, e:\n",
      "   print e\n",
      "        \n",
      "        \n",
      "# WVMR\n",
      "\n",
      "variable = 'wvmr'\n",
      "\n",
      "var_index = variable_name_index_match(variable, variable_list)\n",
      "concat_plot_variable, distances, date_min_max = variable_cat(var_index, station_list_cs)\n",
      "\n",
      "max_contour=0.01\n",
      "min_contour=0\n",
      "tick_interval=0.001\n",
      "    \n",
      "for i, date_bin in enumerate(date_min_max[:,0]):\n",
      "        \n",
      " try:\n",
      "  cont,cbar = date_bin_plot(i, date_bin, concat_plot_variable, pressures, distances, min_contour, max_contour)\n",
      "        \n",
      "  cbar.set_label('', rotation=90)\n",
      "  plt.title('Week beg. %s %s Cross-Section of WVMR from Radiosonde Soundings' % (date_bin.strftime(\"%d %B\"), Cross_Section_Title.replace('_',' ') ))\n",
      "\n",
      "  #plt.show()\n",
      "  plt.savefig('/nfs/a90/eepdw/Figures/Radiosonde/Cross_Sections/%s_%s_%s_wvmr.png' % (Cross_Section_Title, date_bin.strftime(\"%y\"), date_bin.strftime(\"%d_%B\")),  format='png', bbox_inches='tight')\n",
      "  plt.close()\n",
      "  plt.clf()\n",
      "  gc.collect()\n",
      " except Exception, e:\n",
      "   print e"
     ],
     "language": "python",
     "metadata": {},
     "outputs": [
      {
       "output_type": "stream",
       "stream": "stdout",
       "text": [
        "(6, 22, 1000)\n",
        "local variable 'cont' referenced before assignment\n",
        "(6, 22, 1000)\n",
        "[-- -- -- ..., -- -- --]\n",
        "pot_temp"
       ]
      },
      {
       "output_type": "stream",
       "stream": "stdout",
       "text": [
        "\n",
        "(6, 22, 1000)"
       ]
      },
      {
       "output_type": "stream",
       "stream": "stdout",
       "text": [
        "\n",
        "[206.84999999999997 -- 203.0188188188188 ..., -- -- --]\n",
        "pot_temp"
       ]
      },
      {
       "output_type": "stream",
       "stream": "stdout",
       "text": [
        "\n",
        "(6, 22, 1000)"
       ]
      },
      {
       "output_type": "stream",
       "stream": "stdout",
       "text": [
        "\n",
        "[205.95 207.00592258925587 206.7618451785118 ..., -- -- --]\n",
        "pot_temp"
       ]
      },
      {
       "output_type": "stream",
       "stream": "stdout",
       "text": [
        "\n",
        "(6, 22, 1000)"
       ]
      },
      {
       "output_type": "stream",
       "stream": "stdout",
       "text": [
        "\n",
        "[208.45 -- -- ..., -- -- --]\n",
        "pot_temp"
       ]
      },
      {
       "output_type": "stream",
       "stream": "stdout",
       "text": [
        "\n",
        "(6, 22, 1000)"
       ]
      },
      {
       "output_type": "stream",
       "stream": "stdout",
       "text": [
        "\n",
        "[204.64999999999998 -- -- ..., -- -- --]\n",
        "pot_temp"
       ]
      },
      {
       "output_type": "stream",
       "stream": "stdout",
       "text": [
        "\n",
        "(6, 22, 1000)"
       ]
      },
      {
       "output_type": "stream",
       "stream": "stdout",
       "text": [
        "\n",
        "[-- -- -- ..., -- -- --]\n",
        "pot_temp"
       ]
      },
      {
       "output_type": "stream",
       "stream": "stdout",
       "text": [
        "\n",
        "(6, 22, 1000)"
       ]
      },
      {
       "output_type": "stream",
       "stream": "stdout",
       "text": [
        "\n",
        "[208.95 208.24999999999997 -- ..., -- -- --]\n",
        "pot_temp"
       ]
      },
      {
       "output_type": "stream",
       "stream": "stdout",
       "text": [
        "\n",
        "(6, 22, 1000)"
       ]
      },
      {
       "output_type": "stream",
       "stream": "stdout",
       "text": [
        "\n",
        "[204.04999999999998 -- -- ..., -- -- --]\n",
        "pot_temp"
       ]
      },
      {
       "output_type": "stream",
       "stream": "stdout",
       "text": [
        "\n",
        "(6, 22, 1000)"
       ]
      },
      {
       "output_type": "stream",
       "stream": "stdout",
       "text": [
        "\n",
        "[210.04999999999998 209.01791791791788 -- ..., -- -- --]\n",
        "pot_temp"
       ]
      },
      {
       "output_type": "stream",
       "stream": "stdout",
       "text": [
        "\n",
        "(6, 22, 1000)"
       ]
      },
      {
       "output_type": "stream",
       "stream": "stdout",
       "text": [
        "\n",
        "[-- 208.36183304516635 208.07366609033272 ..., -- -- --]\n",
        "pot_temp"
       ]
      },
      {
       "output_type": "stream",
       "stream": "stdout",
       "text": [
        "\n",
        "(6, 22, 1000)"
       ]
      },
      {
       "output_type": "stream",
       "stream": "stdout",
       "text": [
        "\n",
        "[207.95 208.0216134044492 207.99322680889844 ..., -- -- --]\n",
        "pot_temp"
       ]
      },
      {
       "output_type": "stream",
       "stream": "stdout",
       "text": [
        "\n",
        "(6, 22, 1000)"
       ]
      },
      {
       "output_type": "stream",
       "stream": "stdout",
       "text": [
        "\n",
        "[-- -- -- ..., -- -- --]\n",
        "pot_temp"
       ]
      },
      {
       "output_type": "stream",
       "stream": "stdout",
       "text": [
        "\n",
        "(6, 22, 1000)"
       ]
      },
      {
       "output_type": "stream",
       "stream": "stdout",
       "text": [
        "\n",
        "[207.89999999999998 206.803653554348 206.53855710869595 ..., -- -- --]\n",
        "pot_temp"
       ]
      },
      {
       "output_type": "stream",
       "stream": "stdout",
       "text": [
        "\n",
        "(6, 22, 1000)"
       ]
      },
      {
       "output_type": "stream",
       "stream": "stdout",
       "text": [
        "\n",
        "[206.64999999999998 -- -- ..., -- -- --]\n",
        "pot_temp"
       ]
      },
      {
       "output_type": "stream",
       "stream": "stdout",
       "text": [
        "\n",
        "(6, 22, 1000)"
       ]
      },
      {
       "output_type": "stream",
       "stream": "stdout",
       "text": [
        "\n",
        "[207.91666666666666 208.98309933309932 208.31619866619863 ..., -- -- --]\n",
        "pot_temp"
       ]
      },
      {
       "output_type": "stream",
       "stream": "stdout",
       "text": [
        "\n",
        "(6, 22, 1000)"
       ]
      },
      {
       "output_type": "stream",
       "stream": "stdout",
       "text": [
        "\n",
        "[-- -- -- ..., -- -- --]\n",
        "pot_temp"
       ]
      },
      {
       "output_type": "stream",
       "stream": "stdout",
       "text": [
        "\n",
        "(6, 22, 1000)"
       ]
      },
      {
       "output_type": "stream",
       "stream": "stdout",
       "text": [
        "\n",
        "[208.34999999999997 206.58522040559075 205.52294702109515 ..., -- -- --]\n",
        "pot_temp"
       ]
      },
      {
       "output_type": "stream",
       "stream": "stdout",
       "text": [
        "\n",
        "(6, 22, 1000)"
       ]
      },
      {
       "output_type": "stream",
       "stream": "stdout",
       "text": [
        "\n",
        "[-- -- -- ..., -- -- --]\n",
        "pot_temp"
       ]
      },
      {
       "output_type": "stream",
       "stream": "stdout",
       "text": [
        "\n",
        "(6, 22, 1000)"
       ]
      },
      {
       "output_type": "stream",
       "stream": "stdout",
       "text": [
        "\n",
        "[209.45 210.4575408742075 209.66508174841505 ..., -- -- --]\n",
        "pot_temp"
       ]
      },
      {
       "output_type": "stream",
       "stream": "stdout",
       "text": [
        "\n",
        "(6, 22, 1000)"
       ]
      },
      {
       "output_type": "stream",
       "stream": "stdout",
       "text": [
        "\n",
        "[207.64999999999998 207.45129383114454 207.25258766228913 ..., -- -- --]\n",
        "pot_temp"
       ]
      },
      {
       "output_type": "stream",
       "stream": "stdout",
       "text": [
        "\n",
        "(6, 22, 1000)"
       ]
      },
      {
       "output_type": "stream",
       "stream": "stdout",
       "text": [
        "\n",
        "[-- 208.06779605692645 208.82308612960784 ..., -- -- --]\n",
        "pot_temp"
       ]
      },
      {
       "output_type": "stream",
       "stream": "stdout",
       "text": [
        "\n",
        "(6, 22, 1000)"
       ]
      },
      {
       "output_type": "stream",
       "stream": "stdout",
       "text": [
        "\n",
        "local variable 'cont' referenced before assignment\n",
        "(6, 22, 1000)\n",
        "[-- -- -- ..., -- -- --]\n",
        "theta_e"
       ]
      },
      {
       "output_type": "stream",
       "stream": "stdout",
       "text": [
        "\n",
        "(6, 22, 1000)"
       ]
      },
      {
       "output_type": "stream",
       "stream": "stdout",
       "text": [
        "\n",
        "[486.4648092037939 -- 472.40634772722007 ..., -- -- --]\n",
        "theta_e"
       ]
      },
      {
       "output_type": "stream",
       "stream": "stdout",
       "text": [
        "\n",
        "(6, 22, 1000)"
       ]
      },
      {
       "output_type": "stream",
       "stream": "stdout",
       "text": [
        "\n",
        "[484.3548763821078 484.2803102737696 481.19900053713604 ..., -- -- --]\n",
        "theta_e"
       ]
      },
      {
       "output_type": "stream",
       "stream": "stdout",
       "text": [
        "\n",
        "(6, 22, 1000)"
       ]
      },
      {
       "output_type": "stream",
       "stream": "stdout",
       "text": [
        "\n",
        "[490.1891973535923 -- -- ..., -- -- --]\n",
        "theta_e"
       ]
      },
      {
       "output_type": "stream",
       "stream": "stdout",
       "text": [
        "\n",
        "(6, 22, 1000)"
       ]
      },
      {
       "output_type": "stream",
       "stream": "stdout",
       "text": [
        "\n",
        "[481.2547550639349 -- -- ..., -- -- --]\n",
        "theta_e"
       ]
      },
      {
       "output_type": "stream",
       "stream": "stdout",
       "text": [
        "\n",
        "(6, 22, 1000)"
       ]
      },
      {
       "output_type": "stream",
       "stream": "stdout",
       "text": [
        "\n",
        "[-- -- -- ..., -- -- --]\n",
        "theta_e"
       ]
      },
      {
       "output_type": "stream",
       "stream": "stdout",
       "text": [
        "\n",
        "(6, 22, 1000)"
       ]
      },
      {
       "output_type": "stream",
       "stream": "stdout",
       "text": [
        "\n",
        "[491.6186586880792 487.3238337200742 -- ..., -- -- --]\n",
        "theta_e"
       ]
      },
      {
       "output_type": "stream",
       "stream": "stdout",
       "text": [
        "\n",
        "(6, 22, 1000)"
       ]
      },
      {
       "output_type": "stream",
       "stream": "stdout",
       "text": [
        "\n",
        "[479.8312601094152 -- -- ..., -- -- --]\n",
        "theta_e"
       ]
      },
      {
       "output_type": "stream",
       "stream": "stdout",
       "text": [
        "\n",
        "(6, 22, 1000)"
       ]
      },
      {
       "output_type": "stream",
       "stream": "stdout",
       "text": [
        "\n",
        "[494.2098710850367 489.26450960518343 -- ..., -- -- --]\n",
        "theta_e"
       ]
      },
      {
       "output_type": "stream",
       "stream": "stdout",
       "text": [
        "\n",
        "(6, 22, 1000)"
       ]
      },
      {
       "output_type": "stream",
       "stream": "stdout",
       "text": [
        "\n",
        "[-- 487.441745957515 484.2221914037217 ..., -- -- --]\n",
        "theta_e"
       ]
      },
      {
       "output_type": "stream",
       "stream": "stdout",
       "text": [
        "\n",
        "(6, 22, 1000)"
       ]
      },
      {
       "output_type": "stream",
       "stream": "stdout",
       "text": [
        "\n",
        "[489.03381182324347 486.755310449798 484.2463188785384 ..., -- -- --]\n",
        "theta_e"
       ]
      },
      {
       "output_type": "stream",
       "stream": "stdout",
       "text": [
        "\n",
        "(6, 22, 1000)"
       ]
      },
      {
       "output_type": "stream",
       "stream": "stdout",
       "text": [
        "\n",
        "[-- -- -- ..., -- -- --]\n",
        "theta_e"
       ]
      },
      {
       "output_type": "stream",
       "stream": "stdout",
       "text": [
        "\n",
        "(6, 22, 1000)"
       ]
      },
      {
       "output_type": "stream",
       "stream": "stdout",
       "text": [
        "\n",
        "[488.8156443532792 483.7799874329076 480.6218728055478 ..., -- -- --]\n",
        "theta_e"
       ]
      },
      {
       "output_type": "stream",
       "stream": "stdout",
       "text": [
        "\n",
        "(6, 22, 1000)"
       ]
      },
      {
       "output_type": "stream",
       "stream": "stdout",
       "text": [
        "\n",
        "[486.0431765381099 -- -- ..., -- -- --]\n",
        "theta_e"
       ]
      },
      {
       "output_type": "stream",
       "stream": "stdout",
       "text": [
        "\n",
        "(6, 22, 1000)"
       ]
      },
      {
       "output_type": "stream",
       "stream": "stdout",
       "text": [
        "\n",
        "[489.0443890079761 489.2207303499351 485.26291749439036 ..., -- -- --]\n",
        "theta_e"
       ]
      },
      {
       "output_type": "stream",
       "stream": "stdout",
       "text": [
        "\n",
        "(6, 22, 1000)"
       ]
      },
      {
       "output_type": "stream",
       "stream": "stdout",
       "text": [
        "\n",
        "[-- -- -- ..., -- -- --]\n",
        "theta_e"
       ]
      },
      {
       "output_type": "stream",
       "stream": "stdout",
       "text": [
        "\n",
        "(6, 22, 1000)"
       ]
      },
      {
       "output_type": "stream",
       "stream": "stdout",
       "text": [
        "\n",
        "[490.0278178861155 483.39480921659276 478.67021399015795 ..., -- -- --]\n",
        "theta_e"
       ]
      },
      {
       "output_type": "stream",
       "stream": "stdout",
       "text": [
        "\n",
        "(6, 22, 1000)"
       ]
      },
      {
       "output_type": "stream",
       "stream": "stdout",
       "text": [
        "\n",
        "[-- -- -- ..., -- -- --]\n",
        "theta_e"
       ]
      },
      {
       "output_type": "stream",
       "stream": "stdout",
       "text": [
        "\n",
        "(6, 22, 1000)"
       ]
      },
      {
       "output_type": "stream",
       "stream": "stdout",
       "text": [
        "\n",
        "[492.6812510728969 492.4895503823175 488.0163382782105 ..., -- -- --]\n",
        "theta_e"
       ]
      },
      {
       "output_type": "stream",
       "stream": "stdout",
       "text": [
        "\n",
        "(6, 22, 1000)"
       ]
      },
      {
       "output_type": "stream",
       "stream": "stdout",
       "text": [
        "\n",
        "[488.5894737244337 485.68115320756294 482.77283269069227 ..., -- -- --]\n",
        "theta_e"
       ]
      },
      {
       "output_type": "stream",
       "stream": "stdout",
       "text": [
        "\n",
        "(6, 22, 1000)"
       ]
      },
      {
       "output_type": "stream",
       "stream": "stdout",
       "text": [
        "\n",
        "[-- 486.7453745025347 485.9551103968091 ..., -- -- --]\n",
        "theta_e"
       ]
      },
      {
       "output_type": "stream",
       "stream": "stdout",
       "text": [
        "\n",
        "(6, 22, 1000)"
       ]
      },
      {
       "output_type": "stream",
       "stream": "stdout",
       "text": [
        "\n",
        "local variable 'cont' referenced before assignment\n",
        "(6, 22, 1000)\n",
        "[-- -- -- ..., -- -- --]\n",
        "theta_e_sat"
       ]
      },
      {
       "output_type": "stream",
       "stream": "stdout",
       "text": [
        "\n",
        "(6, 22, 1000)"
       ]
      },
      {
       "output_type": "stream",
       "stream": "stdout",
       "text": [
        "\n",
        "[487.0458299947411 -- 472.6990937311309 ..., -- -- --]\n",
        "theta_e_sat"
       ]
      },
      {
       "output_type": "stream",
       "stream": "stdout",
       "text": [
        "\n",
        "(6, 22, 1000)"
       ]
      },
      {
       "output_type": "stream",
       "stream": "stdout",
       "text": [
        "\n",
        "[484.8541312357221 484.935659820351 481.8319611819401 ..., -- -- --]\n",
        "theta_e_sat"
       ]
      },
      {
       "output_type": "stream",
       "stream": "stdout",
       "text": [
        "\n",
        "(6, 22, 1000)"
       ]
      },
      {
       "output_type": "stream",
       "stream": "stdout",
       "text": [
        "\n",
        "[490.9702650917624 -- -- ..., -- -- --]\n",
        "theta_e_sat"
       ]
      },
      {
       "output_type": "stream",
       "stream": "stdout",
       "text": [
        "\n",
        "(6, 22, 1000)"
       ]
      },
      {
       "output_type": "stream",
       "stream": "stdout",
       "text": [
        "\n",
        "[481.6967319442769 -- -- ..., -- -- --]\n",
        "theta_e_sat"
       ]
      },
      {
       "output_type": "stream",
       "stream": "stdout",
       "text": [
        "\n",
        "(6, 22, 1000)"
       ]
      },
      {
       "output_type": "stream",
       "stream": "stdout",
       "text": [
        "\n",
        "[-- -- -- ..., -- -- --]\n",
        "theta_e_sat"
       ]
      },
      {
       "output_type": "stream",
       "stream": "stdout",
       "text": [
        "\n",
        "(6, 22, 1000)"
       ]
      },
      {
       "output_type": "stream",
       "stream": "stdout",
       "text": [
        "\n",
        "[492.20712588259437 487.8476445534063 -- ..., -- -- --]\n",
        "theta_e_sat"
       ]
      },
      {
       "output_type": "stream",
       "stream": "stdout",
       "text": [
        "\n",
        "(6, 22, 1000)"
       ]
      },
      {
       "output_type": "stream",
       "stream": "stdout",
       "text": [
        "\n",
        "[480.2458601217448 -- -- ..., -- -- --]\n",
        "theta_e_sat"
       ]
      },
      {
       "output_type": "stream",
       "stream": "stdout",
       "text": [
        "\n",
        "(6, 22, 1000)"
       ]
      },
      {
       "output_type": "stream",
       "stream": "stdout",
       "text": [
        "\n",
        "[494.9298992877191 489.74818848398496 -- ..., -- -- --]\n",
        "theta_e_sat"
       ]
      },
      {
       "output_type": "stream",
       "stream": "stdout",
       "text": [
        "\n",
        "(6, 22, 1000)"
       ]
      },
      {
       "output_type": "stream",
       "stream": "stdout",
       "text": [
        "\n",
        "[-- 488.1943425422524 484.92551956925297 ..., -- -- --]\n",
        "theta_e_sat"
       ]
      },
      {
       "output_type": "stream",
       "stream": "stdout",
       "text": [
        "\n",
        "(6, 22, 1000)"
       ]
      },
      {
       "output_type": "stream",
       "stream": "stdout",
       "text": [
        "\n",
        "[489.74045315244837 487.4547411116422 484.923383923965 ..., -- -- --]\n",
        "theta_e_sat"
       ]
      },
      {
       "output_type": "stream",
       "stream": "stdout",
       "text": [
        "\n",
        "(6, 22, 1000)"
       ]
      },
      {
       "output_type": "stream",
       "stream": "stdout",
       "text": [
        "\n",
        "[-- -- -- ..., -- -- --]\n",
        "theta_e_sat"
       ]
      },
      {
       "output_type": "stream",
       "stream": "stdout",
       "text": [
        "\n",
        "(6, 22, 1000)"
       ]
      },
      {
       "output_type": "stream",
       "stream": "stdout",
       "text": [
        "\n",
        "[489.65985810492714 484.40912866460104 481.2176832327901 ..., -- -- --]\n",
        "theta_e_sat"
       ]
      },
      {
       "output_type": "stream",
       "stream": "stdout",
       "text": [
        "\n",
        "(6, 22, 1000)"
       ]
      },
      {
       "output_type": "stream",
       "stream": "stdout",
       "text": [
        "\n",
        "[486.5574525456465 -- -- ..., -- -- --]\n",
        "theta_e_sat"
       ]
      },
      {
       "output_type": "stream",
       "stream": "stdout",
       "text": [
        "\n",
        "(6, 22, 1000)"
       ]
      },
      {
       "output_type": "stream",
       "stream": "stdout",
       "text": [
        "\n",
        "[489.6774000532782 489.9197998288292 485.9032612727689 ..., -- -- --]\n",
        "theta_e_sat"
       ]
      },
      {
       "output_type": "stream",
       "stream": "stdout",
       "text": [
        "\n",
        "(6, 22, 1000)"
       ]
      },
      {
       "output_type": "stream",
       "stream": "stdout",
       "text": [
        "\n",
        "[-- -- -- ..., -- -- --]\n",
        "theta_e_sat"
       ]
      },
      {
       "output_type": "stream",
       "stream": "stdout",
       "text": [
        "\n",
        "(6, 22, 1000)"
       ]
      },
      {
       "output_type": "stream",
       "stream": "stdout",
       "text": [
        "\n",
        "[490.74367591668283 483.931186646676 479.14383719860143 ..., -- -- --]\n",
        "theta_e_sat"
       ]
      },
      {
       "output_type": "stream",
       "stream": "stdout",
       "text": [
        "\n",
        "(6, 22, 1000)"
       ]
      },
      {
       "output_type": "stream",
       "stream": "stdout",
       "text": [
        "\n",
        "[-- -- -- ..., -- -- --]\n",
        "theta_e_sat"
       ]
      },
      {
       "output_type": "stream",
       "stream": "stdout",
       "text": [
        "\n",
        "(6, 22, 1000)"
       ]
      },
      {
       "output_type": "stream",
       "stream": "stdout",
       "text": [
        "\n",
        "[493.44817170701987 493.34031344545593 488.7538653403622 ..., -- -- --]\n",
        "theta_e_sat"
       ]
      },
      {
       "output_type": "stream",
       "stream": "stdout",
       "text": [
        "\n",
        "(6, 22, 1000)"
       ]
      },
      {
       "output_type": "stream",
       "stream": "stdout",
       "text": [
        "\n",
        "[489.00403088997217 486.0787148399422 483.15339878991233 ..., -- -- --]\n",
        "theta_e_sat"
       ]
      },
      {
       "output_type": "stream",
       "stream": "stdout",
       "text": [
        "\n",
        "(6, 22, 1000)"
       ]
      },
      {
       "output_type": "stream",
       "stream": "stdout",
       "text": [
        "\n",
        "[-- 487.4358142230027 486.67764553124164 ..., -- -- --]\n",
        "theta_e_sat"
       ]
      },
      {
       "output_type": "stream",
       "stream": "stdout",
       "text": [
        "\n",
        "(6, 22, 1000)"
       ]
      },
      {
       "output_type": "stream",
       "stream": "stdout",
       "text": [
        "\n",
        "local variable 'cont' referenced before assignment\n",
        "(6, 22, 1000)\n",
        "[-- -- -- ..., -- -- --]\n",
        "wvmr"
       ]
      },
      {
       "output_type": "stream",
       "stream": "stdout",
       "text": [
        "\n",
        "(6, 22, 1000)"
       ]
      },
      {
       "output_type": "stream",
       "stream": "stdout",
       "text": [
        "\n",
        "[1.273941302624783e-05 -- 1.2879679865289147e-05 ..., -- -- --]\n",
        "wvmr"
       ]
      },
      {
       "output_type": "stream",
       "stream": "stdout",
       "text": [
        "\n",
        "(6, 22, 1000)"
       ]
      },
      {
       "output_type": "stream",
       "stream": "stdout",
       "text": [
        "\n",
        "[1.3776729761690284e-05 6.791073653201061e-06 7.103032033515186e-06 ..., --\n",
        " -- --]\n",
        "wvmr"
       ]
      },
      {
       "output_type": "stream",
       "stream": "stdout",
       "text": [
        "\n",
        "(6, 22, 1000)"
       ]
      },
      {
       "output_type": "stream",
       "stream": "stdout",
       "text": [
        "\n",
        "[7.269956961065977e-06 -- -- ..., -- -- --]\n",
        "wvmr"
       ]
      },
      {
       "output_type": "stream",
       "stream": "stdout",
       "text": [
        "\n",
        "(6, 22, 1000)"
       ]
      },
      {
       "output_type": "stream",
       "stream": "stdout",
       "text": [
        "\n",
        "[7.518805304029912e-06 -- -- ..., -- -- --]\n",
        "wvmr"
       ]
      },
      {
       "output_type": "stream",
       "stream": "stdout",
       "text": [
        "\n",
        "(6, 22, 1000)"
       ]
      },
      {
       "output_type": "stream",
       "stream": "stdout",
       "text": [
        "\n",
        "[-- -- -- ..., -- -- --]\n",
        "wvmr"
       ]
      },
      {
       "output_type": "stream",
       "stream": "stdout",
       "text": [
        "\n",
        "(6, 22, 1000)"
       ]
      },
      {
       "output_type": "stream",
       "stream": "stdout",
       "text": [
        "\n",
        "[4.4533295107653865e-05 3.923828261203499e-05 -- ..., -- -- --]\n",
        "wvmr"
       ]
      },
      {
       "output_type": "stream",
       "stream": "stdout",
       "text": [
        "\n",
        "(6, 22, 1000)"
       ]
      },
      {
       "output_type": "stream",
       "stream": "stdout",
       "text": [
        "\n",
        "[5.730327887694869e-06 -- -- ..., -- -- --]\n",
        "wvmr"
       ]
      },
      {
       "output_type": "stream",
       "stream": "stdout",
       "text": [
        "\n",
        "(6, 22, 1000)"
       ]
      },
      {
       "output_type": "stream",
       "stream": "stdout",
       "text": [
        "\n",
        "[4.497255407690685e-05 5.9054421027313735e-05 -- ..., -- -- --]\n",
        "wvmr"
       ]
      },
      {
       "output_type": "stream",
       "stream": "stdout",
       "text": [
        "\n",
        "(6, 22, 1000)"
       ]
      },
      {
       "output_type": "stream",
       "stream": "stdout",
       "text": [
        "\n",
        "[-- 7.754149452449825e-06 7.989493600869736e-06 ..., -- -- --]\n",
        "wvmr"
       ]
      },
      {
       "output_type": "stream",
       "stream": "stdout",
       "text": [
        "\n",
        "(6, 22, 1000)"
       ]
      },
      {
       "output_type": "stream",
       "stream": "stdout",
       "text": [
        "\n",
        "[1.0161160027479108e-05 1.0018767160398444e-05 1.0543436662450177e-05 ...,\n",
        " -- -- --]\n",
        "wvmr"
       ]
      },
      {
       "output_type": "stream",
       "stream": "stdout",
       "text": [
        "\n",
        "(6, 22, 1000)"
       ]
      },
      {
       "output_type": "stream",
       "stream": "stdout",
       "text": [
        "\n",
        "[-- -- -- ..., -- -- --]\n",
        "wvmr"
       ]
      },
      {
       "output_type": "stream",
       "stream": "stdout",
       "text": [
        "\n",
        "(6, 22, 1000)"
       ]
      },
      {
       "output_type": "stream",
       "stream": "stdout",
       "text": [
        "\n",
        "[1.2561036715138358e-05 8.958666491207323e-06 8.913707854352554e-06 ..., --\n",
        " -- --]\n",
        "wvmr"
       ]
      },
      {
       "output_type": "stream",
       "stream": "stdout",
       "text": [
        "\n",
        "(6, 22, 1000)"
       ]
      },
      {
       "output_type": "stream",
       "stream": "stdout",
       "text": [
        "\n",
        "[1.9873956908562182e-05 -- -- ..., -- -- --]\n",
        "wvmr"
       ]
      },
      {
       "output_type": "stream",
       "stream": "stdout",
       "text": [
        "\n",
        "(6, 22, 1000)"
       ]
      },
      {
       "output_type": "stream",
       "stream": "stdout",
       "text": [
        "\n",
        "[2.3095502503623664e-05 2.9595174788865084e-05 2.7704470331159372e-05 ...,\n",
        " -- -- --]\n",
        "wvmr"
       ]
      },
      {
       "output_type": "stream",
       "stream": "stdout",
       "text": [
        "\n",
        "(6, 22, 1000)"
       ]
      },
      {
       "output_type": "stream",
       "stream": "stdout",
       "text": [
        "\n",
        "[-- -- -- ..., -- -- --]\n",
        "wvmr"
       ]
      },
      {
       "output_type": "stream",
       "stream": "stdout",
       "text": [
        "\n",
        "(6, 22, 1000)"
       ]
      },
      {
       "output_type": "stream",
       "stream": "stdout",
       "text": [
        "\n",
        "[1.781975320763972e-05 1.5234004695903487e-05 1.2942085220341132e-05 ...,\n",
        " -- -- --]\n",
        "wvmr"
       ]
      },
      {
       "output_type": "stream",
       "stream": "stdout",
       "text": [
        "\n",
        "(6, 22, 1000)"
       ]
      },
      {
       "output_type": "stream",
       "stream": "stdout",
       "text": [
        "\n",
        "[-- -- -- ..., -- -- --]\n",
        "wvmr"
       ]
      },
      {
       "output_type": "stream",
       "stream": "stdout",
       "text": [
        "\n",
        "(6, 22, 1000)"
       ]
      },
      {
       "output_type": "stream",
       "stream": "stdout",
       "text": [
        "\n",
        "[2.7603686499964765e-05 3.200846970882377e-05 2.956336652670361e-05 ..., --\n",
        " -- --]\n",
        "wvmr"
       ]
      },
      {
       "output_type": "stream",
       "stream": "stdout",
       "text": [
        "\n",
        "(6, 22, 1000)"
       ]
      },
      {
       "output_type": "stream",
       "stream": "stdout",
       "text": [
        "\n",
        "[4.908862945690331e-05 4.712499188234853e-05 4.516135430779377e-05 ..., --\n",
        " -- --]\n",
        "wvmr"
       ]
      },
      {
       "output_type": "stream",
       "stream": "stdout",
       "text": [
        "\n",
        "(6, 22, 1000)"
       ]
      },
      {
       "output_type": "stream",
       "stream": "stdout",
       "text": [
        "\n",
        "[-- 1.3424835083743006e-05 1.63671036085435e-05 ..., -- -- --]\n",
        "wvmr"
       ]
      },
      {
       "output_type": "stream",
       "stream": "stdout",
       "text": [
        "\n",
        "(6, 22, 1000)"
       ]
      },
      {
       "output_type": "stream",
       "stream": "stdout",
       "text": [
        "\n",
        "local variable 'cont' referenced before assignment\n",
        "(6, 22, 1000)\n",
        "[-- -- -- ..., -- -- --]\n",
        "theta_e_sat"
       ]
      },
      {
       "output_type": "stream",
       "stream": "stdout",
       "text": [
        "\n",
        "(6, 22, 1000)"
       ]
      },
      {
       "output_type": "stream",
       "stream": "stdout",
       "text": [
        "\n",
        "[0.5810207909472069 -- 0.2927460039108496 ..., -- -- --]\n",
        "theta_e_sat"
       ]
      },
      {
       "output_type": "stream",
       "stream": "stdout",
       "text": [
        "\n",
        "(6, 22, 1000)"
       ]
      },
      {
       "output_type": "stream",
       "stream": "stdout",
       "text": [
        "\n",
        "[0.4992548536142749 0.6553495465814194 0.6329606448040295 ..., -- -- --]\n",
        "theta_e_sat"
       ]
      },
      {
       "output_type": "stream",
       "stream": "stdout",
       "text": [
        "\n",
        "(6, 22, 1000)"
       ]
      },
      {
       "output_type": "stream",
       "stream": "stdout",
       "text": [
        "\n",
        "[0.7810677381701225 -- -- ..., -- -- --]\n",
        "theta_e_sat"
       ]
      },
      {
       "output_type": "stream",
       "stream": "stdout",
       "text": [
        "\n",
        "(6, 22, 1000)"
       ]
      },
      {
       "output_type": "stream",
       "stream": "stdout",
       "text": [
        "\n",
        "[0.441976880341997 -- -- ..., -- -- --]\n",
        "theta_e_sat"
       ]
      },
      {
       "output_type": "stream",
       "stream": "stdout",
       "text": [
        "\n",
        "(6, 22, 1000)"
       ]
      },
      {
       "output_type": "stream",
       "stream": "stdout",
       "text": [
        "\n",
        "[-- -- -- ..., -- -- --]\n",
        "theta_e_sat"
       ]
      },
      {
       "output_type": "stream",
       "stream": "stdout",
       "text": [
        "\n",
        "(6, 22, 1000)"
       ]
      },
      {
       "output_type": "stream",
       "stream": "stdout",
       "text": [
        "\n",
        "[0.5884671945151467 0.5238108333321065 -- ..., -- -- --]\n",
        "theta_e_sat"
       ]
      },
      {
       "output_type": "stream",
       "stream": "stdout",
       "text": [
        "\n",
        "(6, 22, 1000)"
       ]
      },
      {
       "output_type": "stream",
       "stream": "stdout",
       "text": [
        "\n",
        "[0.4146000123295721 -- -- ..., -- -- --]\n",
        "theta_e_sat"
       ]
      },
      {
       "output_type": "stream",
       "stream": "stdout",
       "text": [
        "\n",
        "(6, 22, 1000)"
       ]
      },
      {
       "output_type": "stream",
       "stream": "stdout",
       "text": [
        "\n",
        "[0.7200282026823857 0.48367887880152693 -- ..., -- -- --]\n",
        "theta_e_sat"
       ]
      },
      {
       "output_type": "stream",
       "stream": "stdout",
       "text": [
        "\n",
        "(6, 22, 1000)"
       ]
      },
      {
       "output_type": "stream",
       "stream": "stdout",
       "text": [
        "\n",
        "[-- 0.7525965847373755 0.7033281655312749 ..., -- -- --]\n",
        "theta_e_sat"
       ]
      },
      {
       "output_type": "stream",
       "stream": "stdout",
       "text": [
        "\n",
        "(6, 22, 1000)"
       ]
      },
      {
       "output_type": "stream",
       "stream": "stdout",
       "text": [
        "\n",
        "[0.7066413292048992 0.6994306618441897 0.677065045426616 ..., -- -- --]\n",
        "theta_e_sat"
       ]
      },
      {
       "output_type": "stream",
       "stream": "stdout",
       "text": [
        "\n",
        "(6, 22, 1000)"
       ]
      },
      {
       "output_type": "stream",
       "stream": "stdout",
       "text": [
        "\n",
        "[-- -- -- ..., -- -- --]\n",
        "theta_e_sat"
       ]
      },
      {
       "output_type": "stream",
       "stream": "stdout",
       "text": [
        "\n",
        "(6, 22, 1000)"
       ]
      },
      {
       "output_type": "stream",
       "stream": "stdout",
       "text": [
        "\n",
        "[0.844213751647942 0.6291412316934384 0.5958104272422702 ..., -- -- --]\n",
        "theta_e_sat"
       ]
      },
      {
       "output_type": "stream",
       "stream": "stdout",
       "text": [
        "\n",
        "(6, 22, 1000)"
       ]
      },
      {
       "output_type": "stream",
       "stream": "stdout",
       "text": [
        "\n",
        "[0.5142760075366368 -- -- ..., -- -- --]\n",
        "theta_e_sat"
       ]
      },
      {
       "output_type": "stream",
       "stream": "stdout",
       "text": [
        "\n",
        "(6, 22, 1000)"
       ]
      },
      {
       "output_type": "stream",
       "stream": "stdout",
       "text": [
        "\n",
        "[0.6330110453020552 0.6990694788941028 0.640343778378508 ..., -- -- --]\n",
        "theta_e_sat"
       ]
      },
      {
       "output_type": "stream",
       "stream": "stdout",
       "text": [
        "\n",
        "(6, 22, 1000)"
       ]
      },
      {
       "output_type": "stream",
       "stream": "stdout",
       "text": [
        "\n",
        "[-- -- -- ..., -- -- --]\n",
        "theta_e_sat"
       ]
      },
      {
       "output_type": "stream",
       "stream": "stdout",
       "text": [
        "\n",
        "(6, 22, 1000)"
       ]
      },
      {
       "output_type": "stream",
       "stream": "stdout",
       "text": [
        "\n",
        "[0.7158580305673468 0.5363774300832347 0.4736232084434846 ..., -- -- --]\n",
        "theta_e_sat"
       ]
      },
      {
       "output_type": "stream",
       "stream": "stdout",
       "text": [
        "\n",
        "(6, 22, 1000)"
       ]
      },
      {
       "output_type": "stream",
       "stream": "stdout",
       "text": [
        "\n",
        "[-- -- -- ..., -- -- --]\n",
        "theta_e_sat"
       ]
      },
      {
       "output_type": "stream",
       "stream": "stdout",
       "text": [
        "\n",
        "(6, 22, 1000)"
       ]
      },
      {
       "output_type": "stream",
       "stream": "stdout",
       "text": [
        "\n",
        "[0.7669206341229824 0.8507630631384586 0.7375270621516847 ..., -- -- --]\n",
        "theta_e_sat"
       ]
      },
      {
       "output_type": "stream",
       "stream": "stdout",
       "text": [
        "\n",
        "(6, 22, 1000)"
       ]
      },
      {
       "output_type": "stream",
       "stream": "stdout",
       "text": [
        "\n",
        "[0.414557165538497 0.3975616323792792 0.38056609922006146 ..., -- -- --]\n",
        "theta_e_sat"
       ]
      },
      {
       "output_type": "stream",
       "stream": "stdout",
       "text": [
        "\n",
        "(6, 22, 1000)"
       ]
      },
      {
       "output_type": "stream",
       "stream": "stdout",
       "text": [
        "\n",
        "[-- 0.6904397204680208 0.722535134432519 ..., -- -- --]\n",
        "theta_e_sat"
       ]
      },
      {
       "output_type": "stream",
       "stream": "stdout",
       "text": [
        "\n"
       ]
      },
      {
       "output_type": "stream",
       "stream": "stderr",
       "text": [
        "Traceback (most recent call last):\n",
        "  File \"<ipython-input-13-8376053bdfe2>\", line 200, in <module>\n",
        "    cont,cbar = date_bin_plot(i, date_bin, concat_plot_variable, pressures, distances, min_contour, max_contour)\n",
        "  File \"<ipython-input-13-8376053bdfe2>\", line 162, in date_bin_plot\n",
        "    return cont,cbar\n",
        "UnboundLocalError: local variable 'cont' referenced before assignment\n"
       ]
      }
     ],
     "prompt_number": 13
    },
    {
     "cell_type": "code",
     "collapsed": false,
     "input": [
      "#Weekly\n",
      "\n",
      "import matplotlib\n",
      "import matplotlib.pyplot as plt\n",
      "import matplotlib.mlab as ml\n",
      "\n",
      "import datetime\n",
      "\n",
      "from dateutil.relativedelta import relativedelta\n",
      "\n",
      "import re\n",
      "\n",
      "import numpy as np\n",
      "\n",
      "from math import sin, cos, atan2, radians, sqrt\n",
      "\n",
      "import scipy.interpolate\n",
      "\n",
      "import gc\n",
      "\n",
      "import pdb\n",
      "import traceback\n",
      "\n",
      "Cross_Section_Title = 'Vizag_to_Afghanistan'\n",
      "station_list_cs=[43150, 42867, 43014, 42339, 40990, 40948]\n",
      "\n",
      "first_station=43150\n",
      "\n",
      "date_min=datetime.datetime(2011,5,1,0,0,0)\n",
      "date_max=datetime.datetime(2011,10,1,0,0,0)\n",
      "\n",
      "delta = relativedelta(weeks=+1)\n",
      "\n",
      "\n",
      "    \n",
      "def station_info_search(stat):\n",
      "    for line in station_metadata:\n",
      "     if \"%s\" % stat in line: \n",
      "      st = line[2].lower().title().replace('_',' ')\n",
      "      lo = float(line[3])\n",
      "      la = float(line[4])\n",
      "    return st,la,lo\n",
      "\n",
      "def calculate_distance_from_first_station(stat, first_station_lon, first_station_lat, station_lat, station_lon):\n",
      "\n",
      " fslat_rad = radians(first_station_lat)\n",
      " fslon_rad = radians(first_station_lon)\n",
      " lat_rad = radians(station_lat)\n",
      " lon_rad = radians(station_lon)\n",
      "\n",
      " #Haversine Formula\n",
      "    \n",
      " a = sin((lat_rad-fslat_rad)/2)**2 + cos(lat_rad) * cos(fslat_rad) * sin((lon_rad-fslon_rad)/2)**2\n",
      " c = 2 * atan2(sqrt(a), sqrt(1-a))\n",
      " d = 6371 * c\n",
      "\n",
      " return d\n",
      "\n",
      "def variable_name_index_match(variable, variable_list):\n",
      " for key, value in variable_list.iteritems():   # iter on both keys and values\n",
      "        if key.startswith('%s' % variable):\n",
      "                arr_index_var=value \n",
      " return arr_index_var\n",
      "            \n",
      "def variable_cat(var_index, station_list_cs):\n",
      "    var_cat=[]\n",
      "    distances=[]\n",
      "    date_min_max=[]\n",
      "    \n",
      "    for stat in station_list_cs:\n",
      "     load_file = np.load('/nfs/a90/eepdw/Data/Observations/Radiosonde_Numpy/Radiosonde_Cross_Section_'\n",
      "                        'IND_SOUNDING_INTERP_MEAN_%s_%s_%s_%s_%s.npz' \n",
      "                        % (Cross_Section_Title, date_min.strftime('%Y%m%d'), date_max.strftime('%Y%m%d'), delta, stat))\n",
      "  \n",
      "     #print load_file['date_bin_mean_all_dates_one_station'].shape\n",
      "\n",
      "     if date_min_max ==[]:\n",
      "      date_min_max=np.empty(load_file['min_max_date_bin'].shape)\n",
      "        \n",
      "     station_title, station_lon, station_lat = station_info_search(stat)\n",
      "    \n",
      "     dist_from_first_station = calculate_distance_from_first_station(stat, first_station_lon, first_station_lat, station_lat, station_lon)\n",
      "    \n",
      "     #print dist_from_first_station\n",
      "     #print load_file['date_bin_mean_all_dates_one_station'][:,var_index,:].shape\n",
      "     var_cat.append(load_file['date_bin_mean_all_dates_one_station'][:,var_index,:])\n",
      "     distances.append(dist_from_first_station)\n",
      "     #pdb.set_trace()\n",
      "     #if load_file['min_max_date_bin'].any() != np.NAN:\n",
      "     #date_min_max=np.ma.masked_outside(load_file['min_max_date_bin'], date_min, date_max ).data\n",
      "     date_min_max = np.where((load_file['min_max_date_bin']>date_min) & (load_file['min_max_date_bin']<date_max), load_file['min_max_date_bin'], date_min_max )\n",
      "    #print np.array(var_cat).shape\n",
      "    #print date_min_max\n",
      "    return np.array(var_cat), np.array(distances, dtype=float), date_min_max\n",
      "\n",
      "def station_name_plot(station_list_cs, first_station, yi):    \n",
      " y_offset_text=0\n",
      " first_station_title, first_station_lon, first_station_lat = station_info_search(first_station)\n",
      "    \n",
      " \n",
      " for stat in station_list_cs: \n",
      "     \n",
      "   station_title, station_lon, station_lat = station_info_search(stat)\n",
      "    \n",
      "   dist_from_first_station = calculate_distance_from_first_station(stat, first_station_lon, first_station_lat, station_lat, station_lon)\n",
      "    \n",
      "   plt.axvline(x=dist_from_first_station, ymin=0, ymax=1, label=station_title, color='k')\n",
      "   plt.text(dist_from_first_station+0.1,max(yi)/100+20,station_title,rotation=-45)\n",
      "\n",
      "   y_offset_text=+1   \n",
      "    \n",
      "def grid_data_cs(pressure, distance, param):\n",
      " xi=np.linspace(0, max(distance), 1000) \n",
      " #yi=np.linspace(np.nanmin(pressure), np.nanmax(pressure), 500) \n",
      " yi=np.linspace(5000, 100000, 50) # Points for pressure interpolation\n",
      "\n",
      " #yi=np.array([1000, 925, 850, 700, 500, 400, 300, 250, 200, 150, 100, 70, 50, 30, 20,10], dtype=float)\n",
      " #yi=np.array([10, 20, 30, 50, 70, 100, 150, 200, 250, 300, 400, 500, 700, 850, 925, 1000]*100, dtype=float)\n",
      " \n",
      "\n",
      " try:\n",
      "    zi = ml.griddata(distance, pressure,param,xi, yi, interp='nn')\n",
      "    #zi = scipy.interpolate.griddata((distance, pressure),  param, (xi[None,:],yi[:,None]), method='linear')\n",
      " except Exception, e:\n",
      "  print e\n",
      " return xi,yi,zi \n",
      " #return xi,yi\n",
      "def plot_rad_cs(xi,yi,zi, min_contour, max_contour):\n",
      " clevs = np.linspace(min_contour, max_contour,256)\n",
      " ticks = (np.arange(min_contour, max_contour+tick_interval,tick_interval))\n",
      "\n",
      " plt.figure(figsize=(14,8))\n",
      " cmap=plt.cm.jet\n",
      " cont = plt.contourf(xi,yi/100, zi, clevs, cmap=cmap, extend='both')\n",
      "\n",
      " cbar = plt.colorbar(cont, orientation='vertical', pad=0.05, extend='both', format = '$%d$')\n",
      " #cbar.set_label('$W m^{-2}$') \n",
      " cbar.set_ticks(np.arange(min_contour, max_contour+tick_interval,tick_interval))\n",
      " cbar.set_ticklabels(['${%d}$' % i for i in ticks])\n",
      "    \n",
      " plt.gca().invert_yaxis()\n",
      " plt.ylabel('Pressure (hPa)')\n",
      " plt.xlabel('km from first station')\n",
      " print variable\n",
      "    \n",
      " return cont,cbar\n",
      "\n",
      "def date_bin_plot(i, date_bin, concat_plot_variable, pressures, distances, min_contour, max_contour):\n",
      "  nan_mask = np.ma.masked_array(np.array(concat_plot_variable[:,i,:], dtype=float).flatten(), np.isnan(np.array(concat_plot_variable[:,i,:], dtype=float).flatten()))\n",
      " #print nan_mask\n",
      "  print concat_plot_variable.shape\n",
      " \n",
      "  try:    \n",
      "   if nan_mask.mask.all() == False:\n",
      "    print nan_mask\n",
      "    xi,yi, zi = grid_data_cs(np.array(pressures[:,i,:], dtype=float).flatten(), np.repeat(distances, concat_plot_variable[:,i,:].shape[1]).flatten(), nan_mask) \n",
      "    \n",
      "    cont,cbar = plot_rad_cs(xi, yi, zi, min_contour, max_contour)\n",
      "    station_name_plot(station_list_cs, first_station, yi)\n",
      "  except Exception, e:\n",
      "   print e\n",
      "  return cont,cbar\n",
      "        \n",
      "station_list_search='/nfs/a90/eepdw/Data/Observations/Radiosonde_downloaded_from_NOAA_GUAN/igra-stations.txt'\n",
      "station_metadata=[]\n",
      "f = open(station_list_search,'r')\n",
      "for line in f:\n",
      "     line = line.strip()\n",
      "     line=re.sub(r'([A-Z])\\s([A-Z])', r'\\1_\\2',line)\n",
      "     line=re.sub(r'([A-Z])\\s\\s([A-Z])', r'\\1_\\2',line)\n",
      "     station_metadata.append(line.split())\n",
      "f.close()\n",
      "\n",
      "first_station_title, first_station_lon, first_station_lat = station_info_search(first_station)\n",
      "\n",
      "variable_list={'pressures': 0, 'temps':1, 'dewpoints':2, 'winddirs':3, 'windspeeds':4, 'pot_temp':5, \n",
      "               'sat_vap_pres':6, 'vap_press':7, 'rel_hum':8, 'wvmr':9, 'sp_hum':10, 'sat_temp':11, 'theta_e':12, 'theta_e_sat':13}\n",
      "\n",
      "variable='pressures'\n",
      "\n",
      "var_index = variable_name_index_match(variable, variable_list)\n",
      "pressures, distances, date_min_max = variable_cat(var_index, station_list_cs)\n",
      "\n",
      "#Theta Es - Theta E - Buoyancy\n",
      "\n",
      "variable='theta_e'\n",
      "\n",
      "var_index = variable_name_index_match(variable, variable_list)\n",
      "concat_plot_variable_theta_e, distances, date_min_max = variable_cat(var_index, station_list_cs)\n",
      "\n",
      "variable='theta_e_sat'\n",
      "\n",
      "var_index = variable_name_index_match(variable, variable_list)\n",
      "concat_plot_variable_theta_e_sat, distances, date_min_max = variable_cat(var_index, station_list_cs)\n",
      "\n",
      "concat_plot_variable = concat_plot_variable_theta_e_sat - concat_plot_variable_theta_e\n",
      "\n",
      "max_contour=20\n",
      "min_contour=0\n",
      "tick_interval=2\n",
      "    \n",
      "for i, date_bin in enumerate(date_min_max[:,0]):\n",
      "        \n",
      " try:\n",
      "  cont,cbar = date_bin_plot(i, date_bin, concat_plot_variable, pressures, distances, min_contour, max_contour)\n",
      "        \n",
      "  cbar.set_label('K', rotation=90)\n",
      "  plt.title('Week beg. %s %s Cross-Section of Theta e sat - Theta e from Radiosonde Soundings' % (date_bin.strftime(\"%d %B\"), Cross_Section_Title.replace('_',' ') ))\n",
      "\n",
      "  #plt.show()\n",
      "  plt.savefig('/nfs/a90/eepdw/Figures/Radiosonde/Cross_Sections/%s_%s_%s_thetaeminthetaesat_buoy.png' % (Cross_Section_Title, date_bin.strftime(\"%y\"), date_bin.strftime(\"%d_%B\")),  format='png', bbox_inches='tight')\n",
      "  plt.close()\n",
      "  plt.clf()\n",
      "  gc.collect()\n",
      " except Exception, e:\n",
      "   print e      \n",
      "\n"
     ],
     "language": "python",
     "metadata": {},
     "outputs": [
      {
       "output_type": "stream",
       "stream": "stdout",
       "text": [
        "\n",
        "[2.3095502503623664e-05 2.9595174788865084e-05 2.7704470331159372e-05 ...,\n",
        " -- -- --]\n",
        "wvmr"
       ]
      },
      {
       "output_type": "stream",
       "stream": "stdout",
       "text": [
        "\n",
        "(6, 22, 1000)"
       ]
      },
      {
       "output_type": "stream",
       "stream": "stdout",
       "text": [
        "\n",
        "[-- -- -- ..., -- -- --]\n",
        "wvmr"
       ]
      },
      {
       "output_type": "stream",
       "stream": "stdout",
       "text": [
        "\n",
        "(6, 22, 1000)"
       ]
      },
      {
       "output_type": "stream",
       "stream": "stdout",
       "text": [
        "\n",
        "[1.781975320763972e-05 1.5234004695903487e-05 1.2942085220341132e-05 ...,\n",
        " -- -- --]\n",
        "wvmr"
       ]
      },
      {
       "output_type": "stream",
       "stream": "stdout",
       "text": [
        "\n",
        "(6, 22, 1000)"
       ]
      },
      {
       "output_type": "stream",
       "stream": "stdout",
       "text": [
        "\n",
        "[-- -- -- ..., -- -- --]\n",
        "wvmr"
       ]
      },
      {
       "output_type": "stream",
       "stream": "stdout",
       "text": [
        "\n",
        "(6, 22, 1000)"
       ]
      },
      {
       "output_type": "stream",
       "stream": "stdout",
       "text": [
        "\n",
        "[2.7603686499964765e-05 3.200846970882377e-05 2.956336652670361e-05 ..., --\n",
        " -- --]\n",
        "wvmr"
       ]
      },
      {
       "output_type": "stream",
       "stream": "stdout",
       "text": [
        "\n",
        "(6, 22, 1000)"
       ]
      },
      {
       "output_type": "stream",
       "stream": "stdout",
       "text": [
        "\n",
        "[4.908862945690331e-05 4.712499188234853e-05 4.516135430779377e-05 ..., --\n",
        " -- --]\n",
        "wvmr"
       ]
      },
      {
       "output_type": "stream",
       "stream": "stdout",
       "text": [
        "\n",
        "(6, 22, 1000)"
       ]
      },
      {
       "output_type": "stream",
       "stream": "stdout",
       "text": [
        "\n",
        "[-- 1.3424835083743006e-05 1.63671036085435e-05 ..., -- -- --]\n",
        "wvmr"
       ]
      },
      {
       "output_type": "stream",
       "stream": "stdout",
       "text": [
        "\n"
       ]
      },
      {
       "output_type": "stream",
       "stream": "stdout",
       "text": [
        "(6, 22, 1000)\n",
        "local variable 'cont' referenced before assignment\n",
        "(6, 22, 1000)\n",
        "[-- -- -- ..., -- -- --]\n",
        "theta_e_sat"
       ]
      },
      {
       "output_type": "stream",
       "stream": "stdout",
       "text": [
        "\n",
        "(6, 22, 1000)"
       ]
      },
      {
       "output_type": "stream",
       "stream": "stdout",
       "text": [
        "\n",
        "[0.5810207909472069 -- 0.2927460039108496 ..., -- -- --]\n",
        "theta_e_sat"
       ]
      },
      {
       "output_type": "stream",
       "stream": "stdout",
       "text": [
        "\n",
        "(6, 22, 1000)"
       ]
      },
      {
       "output_type": "stream",
       "stream": "stdout",
       "text": [
        "\n",
        "[0.4992548536142749 0.6553495465814194 0.6329606448040295 ..., -- -- --]\n",
        "theta_e_sat"
       ]
      },
      {
       "output_type": "stream",
       "stream": "stdout",
       "text": [
        "\n",
        "(6, 22, 1000)"
       ]
      },
      {
       "output_type": "stream",
       "stream": "stdout",
       "text": [
        "\n",
        "[0.7810677381701225 -- -- ..., -- -- --]\n",
        "theta_e_sat"
       ]
      },
      {
       "output_type": "stream",
       "stream": "stdout",
       "text": [
        "\n",
        "(6, 22, 1000)"
       ]
      },
      {
       "output_type": "stream",
       "stream": "stdout",
       "text": [
        "\n",
        "[0.441976880341997 -- -- ..., -- -- --]\n",
        "theta_e_sat"
       ]
      },
      {
       "output_type": "stream",
       "stream": "stdout",
       "text": [
        "\n",
        "(6, 22, 1000)"
       ]
      },
      {
       "output_type": "stream",
       "stream": "stdout",
       "text": [
        "\n",
        "[-- -- -- ..., -- -- --]\n",
        "theta_e_sat"
       ]
      },
      {
       "output_type": "stream",
       "stream": "stdout",
       "text": [
        "\n",
        "(6, 22, 1000)"
       ]
      },
      {
       "output_type": "stream",
       "stream": "stdout",
       "text": [
        "\n",
        "[0.5884671945151467 0.5238108333321065 -- ..., -- -- --]\n",
        "theta_e_sat"
       ]
      },
      {
       "output_type": "stream",
       "stream": "stdout",
       "text": [
        "\n",
        "(6, 22, 1000)"
       ]
      },
      {
       "output_type": "stream",
       "stream": "stdout",
       "text": [
        "\n",
        "[0.4146000123295721 -- -- ..., -- -- --]\n",
        "theta_e_sat"
       ]
      },
      {
       "output_type": "stream",
       "stream": "stdout",
       "text": [
        "\n",
        "(6, 22, 1000)"
       ]
      },
      {
       "output_type": "stream",
       "stream": "stdout",
       "text": [
        "\n",
        "[0.7200282026823857 0.48367887880152693 -- ..., -- -- --]\n",
        "theta_e_sat"
       ]
      },
      {
       "output_type": "stream",
       "stream": "stdout",
       "text": [
        "\n",
        "(6, 22, 1000)"
       ]
      },
      {
       "output_type": "stream",
       "stream": "stdout",
       "text": [
        "\n",
        "[-- 0.7525965847373755 0.7033281655312749 ..., -- -- --]\n",
        "theta_e_sat"
       ]
      },
      {
       "output_type": "stream",
       "stream": "stdout",
       "text": [
        "\n",
        "(6, 22, 1000)"
       ]
      },
      {
       "output_type": "stream",
       "stream": "stdout",
       "text": [
        "\n",
        "[0.7066413292048992 0.6994306618441897 0.677065045426616 ..., -- -- --]\n",
        "theta_e_sat"
       ]
      },
      {
       "output_type": "stream",
       "stream": "stdout",
       "text": [
        "\n",
        "(6, 22, 1000)"
       ]
      },
      {
       "output_type": "stream",
       "stream": "stdout",
       "text": [
        "\n",
        "[-- -- -- ..., -- -- --]\n",
        "theta_e_sat"
       ]
      },
      {
       "output_type": "stream",
       "stream": "stdout",
       "text": [
        "\n",
        "(6, 22, 1000)"
       ]
      },
      {
       "output_type": "stream",
       "stream": "stdout",
       "text": [
        "\n",
        "[0.844213751647942 0.6291412316934384 0.5958104272422702 ..., -- -- --]\n",
        "theta_e_sat"
       ]
      },
      {
       "output_type": "stream",
       "stream": "stdout",
       "text": [
        "\n",
        "(6, 22, 1000)"
       ]
      },
      {
       "output_type": "stream",
       "stream": "stdout",
       "text": [
        "\n",
        "[0.5142760075366368 -- -- ..., -- -- --]\n",
        "theta_e_sat"
       ]
      },
      {
       "output_type": "stream",
       "stream": "stdout",
       "text": [
        "\n",
        "(6, 22, 1000)"
       ]
      },
      {
       "output_type": "stream",
       "stream": "stdout",
       "text": [
        "\n",
        "[0.6330110453020552 0.6990694788941028 0.640343778378508 ..., -- -- --]\n",
        "theta_e_sat"
       ]
      },
      {
       "output_type": "stream",
       "stream": "stdout",
       "text": [
        "\n",
        "(6, 22, 1000)"
       ]
      },
      {
       "output_type": "stream",
       "stream": "stdout",
       "text": [
        "\n",
        "[-- -- -- ..., -- -- --]\n",
        "theta_e_sat"
       ]
      },
      {
       "output_type": "stream",
       "stream": "stdout",
       "text": [
        "\n",
        "(6, 22, 1000)"
       ]
      },
      {
       "output_type": "stream",
       "stream": "stdout",
       "text": [
        "\n",
        "[0.7158580305673468 0.5363774300832347 0.4736232084434846 ..., -- -- --]\n",
        "theta_e_sat"
       ]
      },
      {
       "output_type": "stream",
       "stream": "stdout",
       "text": [
        "\n",
        "(6, 22, 1000)"
       ]
      },
      {
       "output_type": "stream",
       "stream": "stdout",
       "text": [
        "\n",
        "[-- -- -- ..., -- -- --]\n",
        "theta_e_sat"
       ]
      },
      {
       "output_type": "stream",
       "stream": "stdout",
       "text": [
        "\n",
        "(6, 22, 1000)"
       ]
      },
      {
       "output_type": "stream",
       "stream": "stdout",
       "text": [
        "\n",
        "[0.7669206341229824 0.8507630631384586 0.7375270621516847 ..., -- -- --]\n",
        "theta_e_sat"
       ]
      },
      {
       "output_type": "stream",
       "stream": "stdout",
       "text": [
        "\n",
        "(6, 22, 1000)"
       ]
      },
      {
       "output_type": "stream",
       "stream": "stdout",
       "text": [
        "\n",
        "[0.414557165538497 0.3975616323792792 0.38056609922006146 ..., -- -- --]\n",
        "theta_e_sat"
       ]
      },
      {
       "output_type": "stream",
       "stream": "stdout",
       "text": [
        "\n",
        "(6, 22, 1000)"
       ]
      },
      {
       "output_type": "stream",
       "stream": "stdout",
       "text": [
        "\n",
        "[-- 0.6904397204680208 0.722535134432519 ..., -- -- --]\n",
        "theta_e_sat"
       ]
      },
      {
       "output_type": "stream",
       "stream": "stdout",
       "text": [
        "\n"
       ]
      }
     ],
     "prompt_number": 16
    },
    {
     "cell_type": "markdown",
     "metadata": {},
     "source": [
      "* Madras.  43279  \n",
      "* Machilipatnam. 43185\n",
      "* Visakhpatnam. 43150\n",
      "* Hyderabad. 43128\n",
      "* Aurangabad. 43014\n",
      "* Nagpur. 42867\n",
      "* Jodhpur. 42339\n",
      "* (Karachi). 41780\n",
      "* Srinagar. 42027"
     ]
    },
    {
     "cell_type": "heading",
     "level": 2,
     "metadata": {},
     "source": [
      "Visakhpatnam to Afghanistan cross-section"
     ]
    },
    {
     "cell_type": "code",
     "collapsed": false,
     "input": [
      "# Vizag to Afghanistan\n",
      "station_list_cs=[43150, 43014, 42867, 42339, 40948, 40990]\n",
      "#station_list=[42027]\n",
      "#Indexes -  pressures = 1, ptemps = 2, vptemps = 3, rh = 4, uwind = 5, vwind = 6, calculated geopotential heights = 7 . . . may change\n",
      "# Single level indexes - dates_for_plotting_single = 0, pwater = 1, lclpress = 2, lfcpress = 3, lnbpress = 4, cape = 5,cin = 6"
     ],
     "language": "python",
     "metadata": {},
     "outputs": [],
     "prompt_number": 1640
    },
    {
     "cell_type": "heading",
     "level": 2,
     "metadata": {},
     "source": [
      "Madras to Srinagar cross-section"
     ]
    },
    {
     "cell_type": "code",
     "collapsed": false,
     "input": [
      "#Madras to Srinagar\n",
      "station_list_cs=[43279, 43185, 43150, 43128, 43014, 42867, 42339, 41780, 42027]\n",
      "#station_list=[42027]\n",
      "\n",
      "# Single level indexes - dates_for_plotting_single = 0, pwater = 1, lclpress = 2, lfcpress = 3, lnbpress = 4, cape = 5,cin = 6"
     ],
     "language": "python",
     "metadata": {},
     "outputs": [],
     "prompt_number": 1582
    },
    {
     "cell_type": "heading",
     "level": 2,
     "metadata": {},
     "source": [
      "Save in cross-section numpy files"
     ]
    },
    {
     "cell_type": "markdown",
     "metadata": {},
     "source": [
      "Change 'Cross_section_title' for different cross-section files"
     ]
    },
    {
     "cell_type": "code",
     "collapsed": false,
     "input": [
      "def grid_data_cs(pressure, distance, param):\n",
      " xi=np.linspace(0, max(distance), 1000) \n",
      " yi=np.linspace(min(pressure), max(pressure), 25) \n",
      " #yi=np.array([1000, 925, 850, 700, 500, 400, 300, 250, 200, 150, 100, 70, 50, 30, 20,10], dtype=float)\n",
      " #yi=np.array([10, 20, 30, 50, 70, 100, 150, 200, 250, 300, 400, 500, 700, 850, 925, 1000]*100, dtype=float)\n",
      " zi = ml.griddata(distance, pressure,param,xi, yi, interp='nn')\n",
      " #zi = scipy.interpolate.griddata((matplotlib.dates.date2num(q[0]),q[1]), param, (xi[None,:],yi[:,None]), method='linear')\n",
      " return xi,yi,zi        "
     ],
     "language": "python",
     "metadata": {},
     "outputs": [],
     "prompt_number": 1677
    },
    {
     "cell_type": "heading",
     "level": 1,
     "metadata": {},
     "source": [
      "Weekly Radiosonde Cross-Sections for June"
     ]
    }
   ],
   "metadata": {}
  }
 ]
}