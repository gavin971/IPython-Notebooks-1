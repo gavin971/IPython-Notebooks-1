{
 "metadata": {
  "name": ""
 },
 "nbformat": 3,
 "nbformat_minor": 0,
 "worksheets": [
  {
   "cells": [
    {
     "cell_type": "code",
     "collapsed": false,
     "input": [
      "# Setting a nice figure ratio\n",
      "WIDTH = 14*72.27 # Figure width in pt (usually from LaTeX)\n",
      "FACTOR = 1 # Fraction of the width you'd like the figure to occupy\n",
      "\n",
      "widthpt = WIDTH * FACTOR\n",
      "inperpt = 1.0 / 72.27\n",
      "golden_ratio = (np.sqrt(5) - 1.0) / 2.0 # because it looks good\n",
      "widthin = widthpt * inperpt\n",
      "heightin = widthin * golden_ratio\n",
      "figdims = [widthin, heightin] # Dimensions as list\n",
      "print figdims"
     ],
     "language": "python",
     "metadata": {},
     "outputs": []
    }
   ],
   "metadata": {}
  }
 ]
}