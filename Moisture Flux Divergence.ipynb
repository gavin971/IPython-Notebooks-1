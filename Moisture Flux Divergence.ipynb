{
 "metadata": {
  "name": ""
 },
 "nbformat": 3,
 "nbformat_minor": 0,
 "worksheets": [
  {
   "cells": [
    {
     "cell_type": "code",
     "collapsed": false,
     "input": [
      "import os, sys\n",
      "sys.path.append('/nfs/see-fs-01_users/eepdw/python_scripts/modules')\n",
      "\n",
      "from update_pp_cube_coords import update_coordsimport iris\n",
      "\n",
      "import iris.analysis.cartography\n",
      "\n",
      "import h5py\n",
      "\n",
      "import numpy as np\n",
      "\n",
      "import pdb\n",
      "\n",
      "import scipy\n",
      "\n",
      "#Load specific humidity and wind\n",
      "\n",
      "#/nfs/a90/eepdw/Data/EMBRACE/Pressure_level\\_means/sp_hum_pressure_levels_interp_djzns_mean_masked/\n",
      "\n",
      "#experiment_ids = ['djznw', 'djznq', 'djzny', 'djzns', 'dkmbq', 'dklyu', 'dklwu', 'dklzq']\n",
      "experiment_ids = ['dkmbq', 'dklyu']\n",
      "p_levels = [1000, 950, 925, 850, 700, 500, 400, 300, 250, 200, 150, 100, 70, 50, 30, 20, 10]\n",
      "\n",
      "for experiment_id in experiment_ids:\n",
      "    \n",
      "   expmin1 = experiment_id[:-1]\n",
      "\n",
      "   fname_h = '/nfs/a90/eepdw/Data/EMBRACE/On_Heights_Interpolation_Data/sp_hum_pressure_levels_interp_%s' % (experiment_id)\n",
      "\n",
      "   with h5py.File(fname_h, 'r') as i:\n",
      "        \n",
      "#  q = i['%s' % 'mean'][. . .]\n",
      "    q = i['%s' % 'sh_on_p'][. . .]\n",
      "   pdb.set_trace()\n",
      "\n",
      "\n",
      "   f_oro =  '/nfs/a90/eepdw/Data/EMBRACE/Mean_State/pp_files/%s/%s/33.pp' % (expmin1, experiment_id)\n",
      "   oro = iris.load_cube(f_oro)\n",
      "   oro,lats,lons = update_coords(oro)\n",
      "\n",
      "   fu = '/nfs/a90/eepdw/Data/EMBRACE/Mean_State/pp_files/%s/%s/30201.pp' % (expmin1, experiment_id)\n",
      "    \n",
      "   u_wind,v_wind = iris.load(fu)\n",
      "\n",
      "   u_wind,lats_w,lons_w = update_coords(u_wind)\n",
      "   v_wind,lats_w,lons_w = update_coords(v_wind)\n",
      "\n",
      "   print u_wind\n",
      "   print u_wind.coord('pressure')\n",
      "\n",
      "   qu_div = np.empty((u_wind.shape[1], u_wind.shape[2], u_wind.shape[0]))\n",
      "   qv_div = np.empty((u_wind.shape[1], u_wind.shape[2], u_wind.shape[0]))\n",
      " \n",
      "   fl_la_lo = (lats.flatten(),lons.flatten())\n",
      "\n",
      "   p_lev_delta = np.diff( np.append(u_wind.coord('pressure').points, u_wind.coord('pressure').points[-1]))\n",
      "   \n",
      "   for p, pressure_cube in enumerate(u_wind.slices(['grid_latitude', 'grid_longitude'])):\n",
      "    \n",
      "    print p\n",
      "    s = np.searchsorted(p_levels[::-1], p)\n",
      "    #sc =  np.searchsorted(p_levs, p)\n",
      "\n",
      "    q_slice = q[:,:,-(s+1)]\n",
      "    q_interp = scipy.interpolate.griddata(fl_la_lo, q_slice.flatten(), (lats_w, lons_w), method='linear')\n",
      "\n",
      "    #pdb.set_trace()\n",
      "    qu_div[:,:,pn] = (u_wind.coord('pressure').points[pn]*q_interp)/9.81\n",
      "    qv_div[:,:,pn] = (v_wind.coord('pressure').points[pn]*q_interp)/9.81\n",
      "\n",
      "   Qu_div = np.sum(qu_div*p_lev_delta, axis=-1)\n",
      "   Qv_div = np.sum(qv_div*p_lev_delta, axis=-1)"
     ],
     "language": "python",
     "metadata": {},
     "outputs": []
    },
    {
     "cell_type": "code",
     "collapsed": false,
     "input": [
      "q.shape\n"
     ],
     "language": "python",
     "metadata": {},
     "outputs": [
      {
       "metadata": {},
       "output_type": "pyout",
       "prompt_number": 2,
       "text": [
        "(504, 600, 600, 17)"
       ]
      }
     ],
     "prompt_number": 2
    },
    {
     "cell_type": "code",
     "collapsed": false,
     "input": [
      "print q[p,:,:,-(s+1)].shape"
     ],
     "language": "python",
     "metadata": {},
     "outputs": [
      {
       "output_type": "stream",
       "stream": "stdout",
       "text": [
        "(600, 600)\n"
       ]
      }
     ],
     "prompt_number": 4
    },
    {
     "cell_type": "code",
     "collapsed": false,
     "input": [
      "pressure_cube.shape"
     ],
     "language": "python",
     "metadata": {},
     "outputs": [
      {
       "metadata": {},
       "output_type": "pyout",
       "prompt_number": 5,
       "text": [
        "(599, 600)"
       ]
      }
     ],
     "prompt_number": 5
    },
    {
     "cell_type": "code",
     "collapsed": false,
     "input": [
      "q_interp = scipy.interpolate.griddata(fl_la_lo, q[p,:,:,-(s+1)].flatten(), (lats_w, lons_w), method='linear')"
     ],
     "language": "python",
     "metadata": {},
     "outputs": [],
     "prompt_number": 7
    },
    {
     "cell_type": "code",
     "collapsed": false,
     "input": [
      "print q_interp.shape"
     ],
     "language": "python",
     "metadata": {},
     "outputs": [
      {
       "output_type": "stream",
       "stream": "stdout",
       "text": [
        "(599, 600)\n"
       ]
      }
     ],
     "prompt_number": 8
    },
    {
     "cell_type": "code",
     "collapsed": false,
     "input": [
      "qu_div[:,:,pn] = (*q_interp)/9.81\n",
      "qv_div[:,:,pn] = (v_wind.coord('pressure').points[pn]*q_interp)/9.81"
     ],
     "language": "python",
     "metadata": {},
     "outputs": [
      {
       "ename": "NameError",
       "evalue": "name 'pn' is not defined",
       "output_type": "pyerr",
       "traceback": [
        "\u001b[1;31m---------------------------------------------------------------------------\u001b[0m\n\u001b[1;31mNameError\u001b[0m                                 Traceback (most recent call last)",
        "\u001b[1;32m<ipython-input-9-cd1c87289d7b>\u001b[0m in \u001b[0;36m<module>\u001b[1;34m()\u001b[0m\n\u001b[1;32m----> 1\u001b[1;33m \u001b[0mqu_div\u001b[0m\u001b[1;33m[\u001b[0m\u001b[1;33m:\u001b[0m\u001b[1;33m,\u001b[0m\u001b[1;33m:\u001b[0m\u001b[1;33m,\u001b[0m\u001b[0mpn\u001b[0m\u001b[1;33m]\u001b[0m \u001b[1;33m=\u001b[0m \u001b[1;33m(\u001b[0m\u001b[0mu_wind\u001b[0m\u001b[1;33m.\u001b[0m\u001b[0mcoord\u001b[0m\u001b[1;33m(\u001b[0m\u001b[1;34m'pressure'\u001b[0m\u001b[1;33m)\u001b[0m\u001b[1;33m.\u001b[0m\u001b[0mpoints\u001b[0m\u001b[1;33m[\u001b[0m\u001b[0mpn\u001b[0m\u001b[1;33m]\u001b[0m\u001b[1;33m*\u001b[0m\u001b[0mq_interp\u001b[0m\u001b[1;33m)\u001b[0m\u001b[1;33m/\u001b[0m\u001b[1;36m9.81\u001b[0m\u001b[1;33m\u001b[0m\u001b[0m\n\u001b[0m\u001b[0;32m      2\u001b[0m \u001b[0mqv_div\u001b[0m\u001b[1;33m[\u001b[0m\u001b[1;33m:\u001b[0m\u001b[1;33m,\u001b[0m\u001b[1;33m:\u001b[0m\u001b[1;33m,\u001b[0m\u001b[0mpn\u001b[0m\u001b[1;33m]\u001b[0m \u001b[1;33m=\u001b[0m \u001b[1;33m(\u001b[0m\u001b[0mv_wind\u001b[0m\u001b[1;33m.\u001b[0m\u001b[0mcoord\u001b[0m\u001b[1;33m(\u001b[0m\u001b[1;34m'pressure'\u001b[0m\u001b[1;33m)\u001b[0m\u001b[1;33m.\u001b[0m\u001b[0mpoints\u001b[0m\u001b[1;33m[\u001b[0m\u001b[0mpn\u001b[0m\u001b[1;33m]\u001b[0m\u001b[1;33m*\u001b[0m\u001b[0mq_interp\u001b[0m\u001b[1;33m)\u001b[0m\u001b[1;33m/\u001b[0m\u001b[1;36m9.81\u001b[0m\u001b[1;33m\u001b[0m\u001b[0m\n",
        "\u001b[1;31mNameError\u001b[0m: name 'pn' is not defined"
       ]
      }
     ],
     "prompt_number": 9
    },
    {
     "cell_type": "code",
     "collapsed": false,
     "input": [
      "print u_wind"
     ],
     "language": "python",
     "metadata": {},
     "outputs": [
      {
       "output_type": "stream",
       "stream": "stdout",
       "text": [
        "x_wind / (m s-1)                    (forecast_period: 6; forecast_reference_time: 84; pressure: 12; grid_latitude: 599; grid_longitude: 600)\n",
        "     Dimension coordinates:\n",
        "          forecast_period                           x                           -             -                  -                    -\n",
        "          forecast_reference_time                   -                           x             -                  -                    -\n",
        "          pressure                                  -                           -             x                  -                    -\n",
        "          grid_latitude                             -                           -             -                  x                    -\n",
        "          grid_longitude                            -                           -             -                  -                    x\n",
        "     Auxiliary coordinates:\n",
        "          time                                      x                           x             -                  -                    -\n",
        "     Attributes:\n",
        "          STASH: m01s30i201\n",
        "          source: Data from Met Office Unified Model 8.02\n"
       ]
      }
     ],
     "prompt_number": 10
    },
    {
     "cell_type": "code",
     "collapsed": false,
     "input": [
      "print time_cube"
     ],
     "language": "python",
     "metadata": {},
     "outputs": [
      {
       "output_type": "stream",
       "stream": "stdout",
       "text": [
        "x_wind / (m s-1)                    (pressure: 12; grid_latitude: 599; grid_longitude: 600)\n",
        "     Dimension coordinates:\n",
        "          pressure                           x                  -                    -\n",
        "          grid_latitude                      -                  x                    -\n",
        "          grid_longitude                     -                  -                    x\n",
        "     Scalar coordinates:\n",
        "          forecast_period: 6.0 hours\n",
        "          forecast_reference_time: 2011-09-07 18:00:00\n",
        "          time: 2011-09-08 00:00:00\n",
        "     Attributes:\n",
        "          STASH: m01s30i201\n",
        "          source: Data from Met Office Unified Model 8.02\n"
       ]
      }
     ],
     "prompt_number": 14
    },
    {
     "cell_type": "code",
     "collapsed": false,
     "input": [
      "print q.shape"
     ],
     "language": "python",
     "metadata": {},
     "outputs": [
      {
       "output_type": "stream",
       "stream": "stdout",
       "text": [
        "(504, 600, 600, 17)\n"
       ]
      }
     ],
     "prompt_number": 15
    },
    {
     "cell_type": "code",
     "collapsed": false,
     "input": [
      "print pressure_cube"
     ],
     "language": "python",
     "metadata": {},
     "outputs": [
      {
       "output_type": "stream",
       "stream": "stdout",
       "text": [
        "x_wind / (m s-1)                    (grid_latitude: 599; grid_longitude: 600)\n",
        "     Dimension coordinates:\n",
        "          grid_latitude                           x                    -\n",
        "          grid_longitude                          -                    x\n",
        "     Scalar coordinates:\n",
        "          forecast_period: 6.0 hours\n",
        "          forecast_reference_time: 2011-09-07 18:00:00\n",
        "          pressure: 1000.0 hPa\n",
        "          time: 2011-09-08 00:00:00\n",
        "     Attributes:\n",
        "          STASH: m01s30i201\n",
        "          source: Data from Met Office Unified Model 8.02\n"
       ]
      }
     ],
     "prompt_number": 22
    },
    {
     "cell_type": "code",
     "collapsed": false,
     "input": [
      "pressure_cube.coord('pressure').points[0]"
     ],
     "language": "python",
     "metadata": {},
     "outputs": [
      {
       "metadata": {},
       "output_type": "pyout",
       "prompt_number": 15,
       "text": [
        "100.0"
       ]
      }
     ],
     "prompt_number": 15
    },
    {
     "cell_type": "code",
     "collapsed": false,
     "input": [
      "pq= iris.Constraint(pressure=pressure_cube.coord('pressure').points[0])\n",
      "v_slice = time_cube.extract(pq)\n",
      "print v_slice"
     ],
     "language": "python",
     "metadata": {},
     "outputs": [
      {
       "output_type": "stream",
       "stream": "stdout",
       "text": [
        "x_wind / (m s-1)                    (grid_latitude: 599; grid_longitude: 600)\n",
        "     Dimension coordinates:\n",
        "          grid_latitude                           x                    -\n",
        "          grid_longitude                          -                    x\n",
        "     Scalar coordinates:\n",
        "          forecast_period: 0.999999996275 hours\n",
        "          forecast_reference_time: 2011-08-18 00:00:00\n",
        "          pressure: 100.0 hPa\n",
        "          time: 2011-08-18 01:00:00\n",
        "     Attributes:\n",
        "          STASH: m01s30i201\n",
        "          source: Data from Met Office Unified Model 8.02\n"
       ]
      }
     ],
     "prompt_number": 14
    },
    {
     "cell_type": "code",
     "collapsed": false,
     "input": [
      "print qu_div"
     ],
     "language": "python",
     "metadata": {},
     "outputs": [
      {
       "output_type": "stream",
       "stream": "stdout",
       "text": [
        "[[[  2.35882378e-310   2.35885344e-310   2.35885344e-310   2.35885344e-310\n",
        "     0.00000000e+000   7.95445690e-322]\n",
        "  [  2.35885346e-310   2.35885346e-310   3.64908000e+005   6.37344683e-322\n",
        "     2.35885346e-310   2.35882378e-310]\n",
        "  [  3.64912000e+005   4.79243676e-322   2.35885346e-310   2.35885345e-310\n",
        "     3.64912000e+005   3.21142670e-322]\n",
        "  ..., \n",
        "  [  2.35885345e-310   2.35885345e-310   2.37151510e-322   3.16696079e-321\n",
        "     2.35885345e-310   2.35882378e-310]\n",
        "  [  0.00000000e+000   0.00000000e+000   2.35885346e-310   2.35882795e-310\n",
        "     5.65176949e-315   4.79243676e-322]\n",
        "  [  2.35885346e-310   2.35885345e-310   1.58101007e-322   1.77863633e-322\n",
        "     2.35885346e-310   2.35882795e-310]]\n",
        "\n",
        " [[  3.16202013e-322   1.77863633e-322   2.35885345e-310   2.35882795e-310\n",
        "     7.90505033e-322   1.77863633e-322]\n",
        "  [  2.35885346e-310   2.35882795e-310   9.48606040e-322   1.77863633e-322\n",
        "     2.35885346e-310   2.35882795e-310]\n",
        "  [  3.64908000e+005   7.95445690e-322   2.35885346e-310   2.35885346e-310\n",
        "     3.64908000e+005   6.37344683e-322]\n",
        "  ..., \n",
        "  [  2.35885346e-310   2.35882378e-310   3.64912000e+005   1.63041663e-322\n",
        "     2.35885346e-310   2.35885346e-310]\n",
        "  [  6.32404027e-322   1.77863633e-322   2.35885346e-310   2.35882795e-310\n",
        "     5.45448473e-321   2.56914136e-322]\n",
        "  [  2.35885346e-310   2.35885345e-310   2.35885345e-310   2.35885345e-310\n",
        "     2.37151510e-322   2.77170827e-321]]\n",
        "\n",
        " [[  2.35885345e-310   2.35882378e-310   0.00000000e+000   0.00000000e+000\n",
        "     2.35885346e-310   2.35882795e-310]\n",
        "  [  5.61841903e-315   1.63041663e-322   2.35885346e-310   2.35885346e-310\n",
        "     4.74303020e-322   2.56914136e-322]\n",
        "  [  2.35885346e-310   2.35885345e-310   2.35885345e-310   2.35885345e-310\n",
        "     2.37151510e-322   2.06025374e-321]\n",
        "  ..., \n",
        "  [  2.35885346e-310   2.35885346e-310   4.00000000e+000   4.79243676e-322\n",
        "     2.35885346e-310   2.35885346e-310]\n",
        "  [  3.64908000e+005   3.21142670e-322   2.35885346e-310   2.35882378e-310\n",
        "     3.64913000e+005   1.63041663e-322]\n",
        "  [  2.35885346e-310   2.35885346e-310   8.45840386e-321   2.56914136e-322\n",
        "     2.35885346e-310   2.35885345e-310]]\n",
        "\n",
        " ..., \n",
        " [[  3.64926000e+005   1.63041663e-322   2.35885346e-310   2.35885346e-310\n",
        "     3.25688074e-320   2.56914136e-322]\n",
        "  [  2.35885346e-310   2.35885346e-310   2.35885346e-310   2.35885346e-310\n",
        "     2.35885346e-310   6.24993042e-321]\n",
        "  [  2.35885346e-310   2.35885348e-310   0.00000000e+000   0.00000000e+000\n",
        "     2.37151510e-322   1.77863633e-322]\n",
        "  ..., \n",
        "  [  7.11454530e-322   2.56914136e-322   2.35885346e-310   2.35885346e-310\n",
        "     2.35885346e-310   2.35885346e-310]\n",
        "  [  1.97626258e-321   1.77863633e-322   2.35885346e-310   2.35882795e-310\n",
        "     6.00000000e+000   4.79243676e-322]\n",
        "  [  2.35885348e-310   2.35885346e-310   1.58101007e-322   1.77863633e-322\n",
        "     2.35885346e-310   2.35882795e-310]]\n",
        "\n",
        " [[  3.64926000e+005   1.63041663e-322   2.35885346e-310   2.35885346e-310\n",
        "     2.60866661e-321   1.77863633e-322]\n",
        "  [  2.35885346e-310   2.35882795e-310   6.00000000e+000   2.53455676e-321\n",
        "     2.35885346e-310   2.35885346e-310]\n",
        "  [  0.00000000e+000   0.00000000e+000   2.35885346e-310   2.35882795e-310\n",
        "     3.64926000e+005   1.63041663e-322]\n",
        "  ..., \n",
        "  [  2.35885346e-310   2.35885346e-310   6.32404027e-322   2.56914136e-322\n",
        "     2.35885346e-310   2.35885346e-310]\n",
        "  [  2.35885346e-310   2.35885346e-310   8.69555537e-322   2.56914136e-322\n",
        "     2.35885346e-310   2.35885346e-310]\n",
        "  [  2.35885346e-310   2.35885346e-310   2.37151510e-322   1.63041663e-322\n",
        "     2.35885346e-310   2.35885346e-310]]\n",
        "\n",
        " [[  5.29638372e-321   1.77863633e-322   2.35885348e-310   2.35882795e-310\n",
        "     5.45448473e-321   1.77863633e-322]\n",
        "  [  2.35885348e-310   2.35882795e-310   3.64926000e+005   6.37344683e-322\n",
        "     2.35885348e-310   2.35885348e-310]\n",
        "  [  3.64927000e+005   4.79243676e-322   2.35885348e-310   2.35885348e-310\n",
        "     1.58101007e-322   1.77863633e-322]\n",
        "  ..., \n",
        "  [  1.02765654e-321   2.56914136e-322   2.35885346e-310   2.35885346e-310\n",
        "     2.35885346e-310   2.35885346e-310]\n",
        "  [  2.37151510e-322   1.42784972e-321   2.35885346e-310   2.35885346e-310\n",
        "     1.58101007e-322   1.77863633e-322]\n",
        "  [  2.35885346e-310   2.35882795e-310   3.16202013e-322   1.77863633e-322\n",
        "     2.35885346e-310   2.35882795e-310]]]\n"
       ]
      }
     ],
     "prompt_number": 20
    },
    {
     "cell_type": "code",
     "collapsed": false,
     "input": [
      "u_wind.shape"
     ],
     "language": "python",
     "metadata": {},
     "outputs": [
      {
       "metadata": {},
       "output_type": "pyout",
       "prompt_number": 21,
       "text": [
        "(6, 84, 12, 599, 600)"
       ]
      }
     ],
     "prompt_number": 21
    },
    {
     "cell_type": "code",
     "collapsed": false,
     "input": [
      "u_wind"
     ],
     "language": "python",
     "metadata": {},
     "outputs": [
      {
       "metadata": {},
       "output_type": "pyout",
       "prompt_number": 22,
       "text": [
        "<iris 'Cube' of x_wind / (m s-1) (forecast_period: 6; forecast_reference_time: 84; pressure: 12; grid_latitude: 599; grid_longitude: 600)>"
       ]
      }
     ],
     "prompt_number": 22
    },
    {
     "cell_type": "code",
     "collapsed": false,
     "input": [],
     "language": "python",
     "metadata": {},
     "outputs": []
    }
   ],
   "metadata": {}
  }
 ]
}